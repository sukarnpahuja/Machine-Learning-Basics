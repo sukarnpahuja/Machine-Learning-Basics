{
 "cells": [
  {
   "cell_type": "markdown",
   "id": "917ffb99",
   "metadata": {},
   "source": [
    "# MACHINE LEARNING LAB - TASK 2 : REGRESSION"
   ]
  },
  {
   "cell_type": "markdown",
   "id": "10880c7e",
   "metadata": {},
   "source": [
    "### Importing Libraries and Loading Dataset"
   ]
  },
  {
   "cell_type": "code",
   "execution_count": 1,
   "id": "9d35c5f4",
   "metadata": {},
   "outputs": [],
   "source": [
    "#for visualisation and data processing\n",
    "import numpy as np\n",
    "import pandas as pd\n",
    "import matplotlib.pyplot as plt\n",
    "import seaborn as sns\n",
    "\n",
    "#for ML model\n",
    "from sklearn.model_selection import train_test_split \n",
    "from sklearn.linear_model import LinearRegression\n",
    "from sklearn import metrics"
   ]
  },
  {
   "cell_type": "code",
   "execution_count": 2,
   "id": "60261f9b",
   "metadata": {},
   "outputs": [
    {
     "data": {
      "text/html": [
       "<div>\n",
       "<style scoped>\n",
       "    .dataframe tbody tr th:only-of-type {\n",
       "        vertical-align: middle;\n",
       "    }\n",
       "\n",
       "    .dataframe tbody tr th {\n",
       "        vertical-align: top;\n",
       "    }\n",
       "\n",
       "    .dataframe thead th {\n",
       "        text-align: right;\n",
       "    }\n",
       "</style>\n",
       "<table border=\"1\" class=\"dataframe\">\n",
       "  <thead>\n",
       "    <tr style=\"text-align: right;\">\n",
       "      <th></th>\n",
       "      <th>Date</th>\n",
       "      <th>NO2</th>\n",
       "      <th>CO</th>\n",
       "      <th>O3</th>\n",
       "      <th>PM2.5</th>\n",
       "      <th>SO2</th>\n",
       "      <th>Air Quality</th>\n",
       "      <th>WIND</th>\n",
       "      <th>TEMP</th>\n",
       "      <th>PRESSURE</th>\n",
       "      <th>RH</th>\n",
       "    </tr>\n",
       "  </thead>\n",
       "  <tbody>\n",
       "    <tr>\n",
       "      <th>0</th>\n",
       "      <td>2010-01-01</td>\n",
       "      <td>38.16</td>\n",
       "      <td>0.704</td>\n",
       "      <td>0.03348</td>\n",
       "      <td>13.526531</td>\n",
       "      <td>7.7</td>\n",
       "      <td>54</td>\n",
       "      <td>5.854167</td>\n",
       "      <td>46.000000</td>\n",
       "      <td>1030.041667</td>\n",
       "      <td>65.916667</td>\n",
       "    </tr>\n",
       "    <tr>\n",
       "      <th>1</th>\n",
       "      <td>2010-01-02</td>\n",
       "      <td>37.10</td>\n",
       "      <td>0.880</td>\n",
       "      <td>0.03996</td>\n",
       "      <td>14.953061</td>\n",
       "      <td>14.7</td>\n",
       "      <td>57</td>\n",
       "      <td>2.970833</td>\n",
       "      <td>44.000000</td>\n",
       "      <td>1028.208333</td>\n",
       "      <td>63.291667</td>\n",
       "    </tr>\n",
       "    <tr>\n",
       "      <th>2</th>\n",
       "      <td>2010-01-03</td>\n",
       "      <td>38.16</td>\n",
       "      <td>0.440</td>\n",
       "      <td>0.02484</td>\n",
       "      <td>15.428571</td>\n",
       "      <td>21.7</td>\n",
       "      <td>58</td>\n",
       "      <td>3.579167</td>\n",
       "      <td>44.041667</td>\n",
       "      <td>1025.833333</td>\n",
       "      <td>69.625000</td>\n",
       "    </tr>\n",
       "    <tr>\n",
       "      <th>3</th>\n",
       "      <td>2010-01-04</td>\n",
       "      <td>26.50</td>\n",
       "      <td>0.440</td>\n",
       "      <td>0.03348</td>\n",
       "      <td>10.800000</td>\n",
       "      <td>32.9</td>\n",
       "      <td>47</td>\n",
       "      <td>6.891667</td>\n",
       "      <td>41.750000</td>\n",
       "      <td>1031.208333</td>\n",
       "      <td>60.166667</td>\n",
       "    </tr>\n",
       "    <tr>\n",
       "      <th>4</th>\n",
       "      <td>2010-01-05</td>\n",
       "      <td>45.58</td>\n",
       "      <td>0.616</td>\n",
       "      <td>0.03348</td>\n",
       "      <td>15.904082</td>\n",
       "      <td>34.3</td>\n",
       "      <td>59</td>\n",
       "      <td>2.233333</td>\n",
       "      <td>37.333333</td>\n",
       "      <td>1032.125000</td>\n",
       "      <td>59.916667</td>\n",
       "    </tr>\n",
       "  </tbody>\n",
       "</table>\n",
       "</div>"
      ],
      "text/plain": [
       "        Date    NO2     CO       O3      PM2.5   SO2  Air Quality      WIND  \\\n",
       "0 2010-01-01  38.16  0.704  0.03348  13.526531   7.7           54  5.854167   \n",
       "1 2010-01-02  37.10  0.880  0.03996  14.953061  14.7           57  2.970833   \n",
       "2 2010-01-03  38.16  0.440  0.02484  15.428571  21.7           58  3.579167   \n",
       "3 2010-01-04  26.50  0.440  0.03348  10.800000  32.9           47  6.891667   \n",
       "4 2010-01-05  45.58  0.616  0.03348  15.904082  34.3           59  2.233333   \n",
       "\n",
       "        TEMP     PRESSURE        RH   \n",
       "0  46.000000  1030.041667  65.916667  \n",
       "1  44.000000  1028.208333  63.291667  \n",
       "2  44.041667  1025.833333  69.625000  \n",
       "3  41.750000  1031.208333  60.166667  \n",
       "4  37.333333  1032.125000  59.916667  "
      ]
     },
     "execution_count": 2,
     "metadata": {},
     "output_type": "execute_result"
    }
   ],
   "source": [
    "df = pd.read_excel('Task 2 ML Data.xlsx',sheet_name='Sheet1')\n",
    "df.head()"
   ]
  },
  {
   "cell_type": "markdown",
   "id": "3d1f6849",
   "metadata": {},
   "source": [
    "### Cleaing and Data Preprocessing"
   ]
  },
  {
   "cell_type": "code",
   "execution_count": 3,
   "id": "e1895bec",
   "metadata": {},
   "outputs": [
    {
     "name": "stdout",
     "output_type": "stream",
     "text": [
      "<class 'pandas.core.frame.DataFrame'>\n",
      "RangeIndex: 365 entries, 0 to 364\n",
      "Data columns (total 11 columns):\n",
      " #   Column       Non-Null Count  Dtype         \n",
      "---  ------       --------------  -----         \n",
      " 0   Date         365 non-null    datetime64[ns]\n",
      " 1   NO2          365 non-null    float64       \n",
      " 2   CO           365 non-null    float64       \n",
      " 3   O3           365 non-null    float64       \n",
      " 4   PM2.5        365 non-null    float64       \n",
      " 5   SO2          365 non-null    float64       \n",
      " 6   Air Quality  365 non-null    int64         \n",
      " 7   WIND         365 non-null    float64       \n",
      " 8   TEMP         365 non-null    float64       \n",
      " 9   PRESSURE     365 non-null    float64       \n",
      " 10  RH           365 non-null    float64       \n",
      "dtypes: datetime64[ns](1), float64(9), int64(1)\n",
      "memory usage: 31.5 KB\n"
     ]
    }
   ],
   "source": [
    "df.info()"
   ]
  },
  {
   "cell_type": "code",
   "execution_count": 4,
   "id": "98e3aafc",
   "metadata": {},
   "outputs": [
    {
     "data": {
      "text/plain": [
       "Date           0\n",
       "NO2            0\n",
       "CO             0\n",
       "O3             0\n",
       "PM2.5          0\n",
       "SO2            0\n",
       "Air Quality    0\n",
       "WIND           0\n",
       "TEMP           0\n",
       "PRESSURE       0\n",
       "RH             0\n",
       "dtype: int64"
      ]
     },
     "execution_count": 4,
     "metadata": {},
     "output_type": "execute_result"
    }
   ],
   "source": [
    "df.isna().sum()"
   ]
  },
  {
   "cell_type": "code",
   "execution_count": 5,
   "id": "111752dd",
   "metadata": {},
   "outputs": [
    {
     "data": {
      "text/plain": [
       "Date           datetime64[ns]\n",
       "NO2                   float64\n",
       "CO                    float64\n",
       "O3                    float64\n",
       "PM2.5                 float64\n",
       "SO2                   float64\n",
       "Air Quality             int64\n",
       "WIND                  float64\n",
       "TEMP                  float64\n",
       "PRESSURE              float64\n",
       "RH                    float64\n",
       "dtype: object"
      ]
     },
     "execution_count": 5,
     "metadata": {},
     "output_type": "execute_result"
    }
   ],
   "source": [
    "df.dtypes"
   ]
  },
  {
   "cell_type": "code",
   "execution_count": 6,
   "id": "667409d7",
   "metadata": {},
   "outputs": [
    {
     "data": {
      "text/plain": [
       "(365, 11)"
      ]
     },
     "execution_count": 6,
     "metadata": {},
     "output_type": "execute_result"
    }
   ],
   "source": [
    "df.shape"
   ]
  },
  {
   "cell_type": "code",
   "execution_count": 7,
   "id": "da31c5bc",
   "metadata": {},
   "outputs": [
    {
     "data": {
      "text/html": [
       "<div>\n",
       "<style scoped>\n",
       "    .dataframe tbody tr th:only-of-type {\n",
       "        vertical-align: middle;\n",
       "    }\n",
       "\n",
       "    .dataframe tbody tr th {\n",
       "        vertical-align: top;\n",
       "    }\n",
       "\n",
       "    .dataframe thead th {\n",
       "        text-align: right;\n",
       "    }\n",
       "</style>\n",
       "<table border=\"1\" class=\"dataframe\">\n",
       "  <thead>\n",
       "    <tr style=\"text-align: right;\">\n",
       "      <th></th>\n",
       "      <th>NO2</th>\n",
       "      <th>CO</th>\n",
       "      <th>O3</th>\n",
       "      <th>PM2.5</th>\n",
       "      <th>SO2</th>\n",
       "      <th>Air Quality</th>\n",
       "      <th>WIND</th>\n",
       "      <th>TEMP</th>\n",
       "      <th>PRESSURE</th>\n",
       "      <th>RH</th>\n",
       "    </tr>\n",
       "  </thead>\n",
       "  <tbody>\n",
       "    <tr>\n",
       "      <th>count</th>\n",
       "      <td>365.000000</td>\n",
       "      <td>365.000000</td>\n",
       "      <td>365.000000</td>\n",
       "      <td>365.000000</td>\n",
       "      <td>365.000000</td>\n",
       "      <td>365.000000</td>\n",
       "      <td>365.000000</td>\n",
       "      <td>365.000000</td>\n",
       "      <td>365.000000</td>\n",
       "      <td>365.000000</td>\n",
       "    </tr>\n",
       "    <tr>\n",
       "      <th>mean</th>\n",
       "      <td>34.949008</td>\n",
       "      <td>0.506301</td>\n",
       "      <td>0.046087</td>\n",
       "      <td>13.626266</td>\n",
       "      <td>13.476947</td>\n",
       "      <td>63.747945</td>\n",
       "      <td>4.538818</td>\n",
       "      <td>68.747160</td>\n",
       "      <td>1016.835502</td>\n",
       "      <td>67.835502</td>\n",
       "    </tr>\n",
       "    <tr>\n",
       "      <th>std</th>\n",
       "      <td>16.596962</td>\n",
       "      <td>0.294035</td>\n",
       "      <td>0.016503</td>\n",
       "      <td>4.748510</td>\n",
       "      <td>11.535875</td>\n",
       "      <td>28.919593</td>\n",
       "      <td>1.903770</td>\n",
       "      <td>14.415286</td>\n",
       "      <td>5.656928</td>\n",
       "      <td>11.991668</td>\n",
       "    </tr>\n",
       "    <tr>\n",
       "      <th>min</th>\n",
       "      <td>7.420000</td>\n",
       "      <td>0.176000</td>\n",
       "      <td>0.015120</td>\n",
       "      <td>4.560000</td>\n",
       "      <td>0.000000</td>\n",
       "      <td>25.000000</td>\n",
       "      <td>1.204167</td>\n",
       "      <td>28.125000</td>\n",
       "      <td>1000.666667</td>\n",
       "      <td>24.458333</td>\n",
       "    </tr>\n",
       "    <tr>\n",
       "      <th>25%</th>\n",
       "      <td>22.260000</td>\n",
       "      <td>0.264000</td>\n",
       "      <td>0.034560</td>\n",
       "      <td>10.320000</td>\n",
       "      <td>4.900000</td>\n",
       "      <td>45.000000</td>\n",
       "      <td>3.008333</td>\n",
       "      <td>57.375000</td>\n",
       "      <td>1013.416667</td>\n",
       "      <td>62.416667</td>\n",
       "    </tr>\n",
       "    <tr>\n",
       "      <th>50%</th>\n",
       "      <td>31.800000</td>\n",
       "      <td>0.440000</td>\n",
       "      <td>0.043200</td>\n",
       "      <td>13.051020</td>\n",
       "      <td>9.800000</td>\n",
       "      <td>56.000000</td>\n",
       "      <td>4.145833</td>\n",
       "      <td>71.250000</td>\n",
       "      <td>1016.250000</td>\n",
       "      <td>69.041667</td>\n",
       "    </tr>\n",
       "    <tr>\n",
       "      <th>75%</th>\n",
       "      <td>44.520000</td>\n",
       "      <td>0.528000</td>\n",
       "      <td>0.054000</td>\n",
       "      <td>16.379592</td>\n",
       "      <td>18.900000</td>\n",
       "      <td>67.000000</td>\n",
       "      <td>5.716667</td>\n",
       "      <td>81.583333</td>\n",
       "      <td>1020.083333</td>\n",
       "      <td>75.500000</td>\n",
       "    </tr>\n",
       "    <tr>\n",
       "      <th>max</th>\n",
       "      <td>111.571429</td>\n",
       "      <td>1.760000</td>\n",
       "      <td>0.096857</td>\n",
       "      <td>34.924490</td>\n",
       "      <td>72.612245</td>\n",
       "      <td>179.000000</td>\n",
       "      <td>11.883333</td>\n",
       "      <td>89.125000</td>\n",
       "      <td>1038.208333</td>\n",
       "      <td>92.458333</td>\n",
       "    </tr>\n",
       "  </tbody>\n",
       "</table>\n",
       "</div>"
      ],
      "text/plain": [
       "              NO2          CO          O3       PM2.5         SO2  \\\n",
       "count  365.000000  365.000000  365.000000  365.000000  365.000000   \n",
       "mean    34.949008    0.506301    0.046087   13.626266   13.476947   \n",
       "std     16.596962    0.294035    0.016503    4.748510   11.535875   \n",
       "min      7.420000    0.176000    0.015120    4.560000    0.000000   \n",
       "25%     22.260000    0.264000    0.034560   10.320000    4.900000   \n",
       "50%     31.800000    0.440000    0.043200   13.051020    9.800000   \n",
       "75%     44.520000    0.528000    0.054000   16.379592   18.900000   \n",
       "max    111.571429    1.760000    0.096857   34.924490   72.612245   \n",
       "\n",
       "       Air Quality        WIND        TEMP     PRESSURE         RH   \n",
       "count   365.000000  365.000000  365.000000   365.000000  365.000000  \n",
       "mean     63.747945    4.538818   68.747160  1016.835502   67.835502  \n",
       "std      28.919593    1.903770   14.415286     5.656928   11.991668  \n",
       "min      25.000000    1.204167   28.125000  1000.666667   24.458333  \n",
       "25%      45.000000    3.008333   57.375000  1013.416667   62.416667  \n",
       "50%      56.000000    4.145833   71.250000  1016.250000   69.041667  \n",
       "75%      67.000000    5.716667   81.583333  1020.083333   75.500000  \n",
       "max     179.000000   11.883333   89.125000  1038.208333   92.458333  "
      ]
     },
     "execution_count": 7,
     "metadata": {},
     "output_type": "execute_result"
    }
   ],
   "source": [
    "df.describe()"
   ]
  },
  {
   "cell_type": "code",
   "execution_count": 8,
   "id": "1c2be5a3",
   "metadata": {},
   "outputs": [
    {
     "data": {
      "text/plain": [
       "array([[<AxesSubplot:title={'center':'Date'}>,\n",
       "        <AxesSubplot:title={'center':'NO2'}>,\n",
       "        <AxesSubplot:title={'center':'CO'}>],\n",
       "       [<AxesSubplot:title={'center':'O3'}>,\n",
       "        <AxesSubplot:title={'center':'PM2.5'}>,\n",
       "        <AxesSubplot:title={'center':'SO2'}>],\n",
       "       [<AxesSubplot:title={'center':'Air Quality'}>,\n",
       "        <AxesSubplot:title={'center':'WIND'}>,\n",
       "        <AxesSubplot:title={'center':'TEMP'}>],\n",
       "       [<AxesSubplot:title={'center':'PRESSURE'}>,\n",
       "        <AxesSubplot:title={'center':'RH '}>, <AxesSubplot:>]],\n",
       "      dtype=object)"
      ]
     },
     "execution_count": 8,
     "metadata": {},
     "output_type": "execute_result"
    },
    {
     "data": {
      "image/png": "[encoded data removed]",
      "text/plain": [
       "<Figure size 1080x1080 with 12 Axes>"
      ]
     },
     "metadata": {
      "needs_background": "light"
     },
     "output_type": "display_data"
    }
   ],
   "source": [
    "#histogram to see the distribution and inconsistency\n",
    "df.hist(figsize=(15,15),bins=20)"
   ]
  },
  {
   "cell_type": "markdown",
   "id": "0eea3715",
   "metadata": {},
   "source": [
    "### Feature Selection"
   ]
  },
  {
   "cell_type": "code",
   "execution_count": 9,
   "id": "1d15d5ce",
   "metadata": {},
   "outputs": [
    {
     "data": {
      "text/html": [
       "<div>\n",
       "<style scoped>\n",
       "    .dataframe tbody tr th:only-of-type {\n",
       "        vertical-align: middle;\n",
       "    }\n",
       "\n",
       "    .dataframe tbody tr th {\n",
       "        vertical-align: top;\n",
       "    }\n",
       "\n",
       "    .dataframe thead th {\n",
       "        text-align: right;\n",
       "    }\n",
       "</style>\n",
       "<table border=\"1\" class=\"dataframe\">\n",
       "  <thead>\n",
       "    <tr style=\"text-align: right;\">\n",
       "      <th></th>\n",
       "      <th>NO2</th>\n",
       "      <th>CO</th>\n",
       "      <th>O3</th>\n",
       "      <th>PM2.5</th>\n",
       "      <th>SO2</th>\n",
       "      <th>Air Quality</th>\n",
       "      <th>WIND</th>\n",
       "      <th>TEMP</th>\n",
       "      <th>PRESSURE</th>\n",
       "      <th>RH</th>\n",
       "    </tr>\n",
       "  </thead>\n",
       "  <tbody>\n",
       "    <tr>\n",
       "      <th>NO2</th>\n",
       "      <td>1.000000</td>\n",
       "      <td>0.604258</td>\n",
       "      <td>0.399728</td>\n",
       "      <td>0.150477</td>\n",
       "      <td>0.353760</td>\n",
       "      <td>0.373292</td>\n",
       "      <td>-0.316142</td>\n",
       "      <td>-0.440287</td>\n",
       "      <td>0.301002</td>\n",
       "      <td>-0.406800</td>\n",
       "    </tr>\n",
       "    <tr>\n",
       "      <th>CO</th>\n",
       "      <td>0.604258</td>\n",
       "      <td>1.000000</td>\n",
       "      <td>0.173478</td>\n",
       "      <td>0.226181</td>\n",
       "      <td>0.249409</td>\n",
       "      <td>0.184298</td>\n",
       "      <td>-0.376012</td>\n",
       "      <td>-0.322150</td>\n",
       "      <td>0.261251</td>\n",
       "      <td>-0.180713</td>\n",
       "    </tr>\n",
       "    <tr>\n",
       "      <th>O3</th>\n",
       "      <td>0.399728</td>\n",
       "      <td>0.173478</td>\n",
       "      <td>1.000000</td>\n",
       "      <td>0.305914</td>\n",
       "      <td>0.180373</td>\n",
       "      <td>0.790639</td>\n",
       "      <td>-0.397071</td>\n",
       "      <td>0.226341</td>\n",
       "      <td>-0.068627</td>\n",
       "      <td>-0.409555</td>\n",
       "    </tr>\n",
       "    <tr>\n",
       "      <th>PM2.5</th>\n",
       "      <td>0.150477</td>\n",
       "      <td>0.226181</td>\n",
       "      <td>0.305914</td>\n",
       "      <td>1.000000</td>\n",
       "      <td>0.146086</td>\n",
       "      <td>0.590689</td>\n",
       "      <td>-0.324576</td>\n",
       "      <td>0.125795</td>\n",
       "      <td>0.018567</td>\n",
       "      <td>0.006034</td>\n",
       "    </tr>\n",
       "    <tr>\n",
       "      <th>SO2</th>\n",
       "      <td>0.353760</td>\n",
       "      <td>0.249409</td>\n",
       "      <td>0.180373</td>\n",
       "      <td>0.146086</td>\n",
       "      <td>1.000000</td>\n",
       "      <td>0.205725</td>\n",
       "      <td>-0.189428</td>\n",
       "      <td>-0.293679</td>\n",
       "      <td>0.189862</td>\n",
       "      <td>-0.168953</td>\n",
       "    </tr>\n",
       "    <tr>\n",
       "      <th>Air Quality</th>\n",
       "      <td>0.373292</td>\n",
       "      <td>0.184298</td>\n",
       "      <td>0.790639</td>\n",
       "      <td>0.590689</td>\n",
       "      <td>0.205725</td>\n",
       "      <td>1.000000</td>\n",
       "      <td>-0.427784</td>\n",
       "      <td>0.189282</td>\n",
       "      <td>-0.039216</td>\n",
       "      <td>-0.289967</td>\n",
       "    </tr>\n",
       "    <tr>\n",
       "      <th>WIND</th>\n",
       "      <td>-0.316142</td>\n",
       "      <td>-0.376012</td>\n",
       "      <td>-0.397071</td>\n",
       "      <td>-0.324576</td>\n",
       "      <td>-0.189428</td>\n",
       "      <td>-0.427784</td>\n",
       "      <td>1.000000</td>\n",
       "      <td>-0.254101</td>\n",
       "      <td>-0.120439</td>\n",
       "      <td>0.080265</td>\n",
       "    </tr>\n",
       "    <tr>\n",
       "      <th>TEMP</th>\n",
       "      <td>-0.440287</td>\n",
       "      <td>-0.322150</td>\n",
       "      <td>0.226341</td>\n",
       "      <td>0.125795</td>\n",
       "      <td>-0.293679</td>\n",
       "      <td>0.189282</td>\n",
       "      <td>-0.254101</td>\n",
       "      <td>1.000000</td>\n",
       "      <td>-0.601621</td>\n",
       "      <td>0.123477</td>\n",
       "    </tr>\n",
       "    <tr>\n",
       "      <th>PRESSURE</th>\n",
       "      <td>0.301002</td>\n",
       "      <td>0.261251</td>\n",
       "      <td>-0.068627</td>\n",
       "      <td>0.018567</td>\n",
       "      <td>0.189862</td>\n",
       "      <td>-0.039216</td>\n",
       "      <td>-0.120439</td>\n",
       "      <td>-0.601621</td>\n",
       "      <td>1.000000</td>\n",
       "      <td>-0.272483</td>\n",
       "    </tr>\n",
       "    <tr>\n",
       "      <th>RH</th>\n",
       "      <td>-0.406800</td>\n",
       "      <td>-0.180713</td>\n",
       "      <td>-0.409555</td>\n",
       "      <td>0.006034</td>\n",
       "      <td>-0.168953</td>\n",
       "      <td>-0.289967</td>\n",
       "      <td>0.080265</td>\n",
       "      <td>0.123477</td>\n",
       "      <td>-0.272483</td>\n",
       "      <td>1.000000</td>\n",
       "    </tr>\n",
       "  </tbody>\n",
       "</table>\n",
       "</div>"
      ],
      "text/plain": [
       "                  NO2        CO        O3     PM2.5       SO2  Air Quality  \\\n",
       "NO2          1.000000  0.604258  0.399728  0.150477  0.353760     0.373292   \n",
       "CO           0.604258  1.000000  0.173478  0.226181  0.249409     0.184298   \n",
       "O3           0.399728  0.173478  1.000000  0.305914  0.180373     0.790639   \n",
       "PM2.5        0.150477  0.226181  0.305914  1.000000  0.146086     0.590689   \n",
       "SO2          0.353760  0.249409  0.180373  0.146086  1.000000     0.205725   \n",
       "Air Quality  0.373292  0.184298  0.790639  0.590689  0.205725     1.000000   \n",
       "WIND        -0.316142 -0.376012 -0.397071 -0.324576 -0.189428    -0.427784   \n",
       "TEMP        -0.440287 -0.322150  0.226341  0.125795 -0.293679     0.189282   \n",
       "PRESSURE     0.301002  0.261251 -0.068627  0.018567  0.189862    -0.039216   \n",
       "RH          -0.406800 -0.180713 -0.409555  0.006034 -0.168953    -0.289967   \n",
       "\n",
       "                 WIND      TEMP  PRESSURE       RH   \n",
       "NO2         -0.316142 -0.440287  0.301002 -0.406800  \n",
       "CO          -0.376012 -0.322150  0.261251 -0.180713  \n",
       "O3          -0.397071  0.226341 -0.068627 -0.409555  \n",
       "PM2.5       -0.324576  0.125795  0.018567  0.006034  \n",
       "SO2         -0.189428 -0.293679  0.189862 -0.168953  \n",
       "Air Quality -0.427784  0.189282 -0.039216 -0.289967  \n",
       "WIND         1.000000 -0.254101 -0.120439  0.080265  \n",
       "TEMP        -0.254101  1.000000 -0.601621  0.123477  \n",
       "PRESSURE    -0.120439 -0.601621  1.000000 -0.272483  \n",
       "RH           0.080265  0.123477 -0.272483  1.000000  "
      ]
     },
     "execution_count": 9,
     "metadata": {},
     "output_type": "execute_result"
    }
   ],
   "source": [
    "#correlation\n",
    "df.corr()"
   ]
  },
  {
   "cell_type": "code",
   "execution_count": 10,
   "id": "3813cfed",
   "metadata": {},
   "outputs": [
    {
     "data": {
      "text/plain": [
       "<AxesSubplot:>"
      ]
     },
     "execution_count": 10,
     "metadata": {},
     "output_type": "execute_result"
    },
    {
     "data": {
      "image/png": "[encoded data removed]",
      "text/plain": [
       "<Figure size 864x720 with 2 Axes>"
      ]
     },
     "metadata": {
      "needs_background": "light"
     },
     "output_type": "display_data"
    }
   ],
   "source": [
    "plt.figure(figsize=(12,10))\n",
    "sns.heatmap(df.corr(),annot=True,cmap='coolwarm')"
   ]
  },
  {
   "cell_type": "markdown",
   "id": "275e19cf",
   "metadata": {},
   "source": [
    "The pollutants that affect AQI are NO2,CO,O3,PM2.5 and So2. However, we'll choose only four for our regression model features. These feature selection is based on correlation. We choose features that are least correlated.\n",
    "- Therefore, the features for regression model are - **CO,O3,PM2.5 and SO2**"
   ]
  },
  {
   "cell_type": "code",
   "execution_count": 11,
   "id": "2834e208",
   "metadata": {},
   "outputs": [],
   "source": [
    "# Air quality Index Calculator Function\n",
    "#defining air quality index range output\n",
    "def AQI_output(num):\n",
    "    if num>=0 and num<=50:\n",
    "        return 'Good'\n",
    "    elif num>=51 and num<=100:\n",
    "        return 'Satisfactory'\n",
    "    elif num>=101 and num<=200:\n",
    "        return 'Moderately Polluted'\n",
    "    elif num>=201 and num<=300:\n",
    "        return 'Poor'\n",
    "    elif num>=301 and num<=400:\n",
    "        return 'Very Poor'\n",
    "    else:\n",
    "        return 'Severe'"
   ]
  },
  {
   "cell_type": "markdown",
   "id": "c24e504e",
   "metadata": {},
   "source": [
    "### Regression Model - Training and Testing\n",
    "- Multiple Linear Regression line will be --> y = c1x1 + c2x2 + c3x3 + c4x4 + I\n",
    "- where, c = coeff, y = AQI , I = intercept, x1 = CO, x2 = O3, x3 = PM2.5 and x4 = SO2.\n",
    "\n",
    "\n",
    "**AQI = c1xCO + c2xO3 + c3xPM2.5 + c4xSO2 + Intercept**"
   ]
  },
  {
   "cell_type": "code",
   "execution_count": 12,
   "id": "fa8d8d5c",
   "metadata": {},
   "outputs": [],
   "source": [
    "#assigning independent and dependent variables\n",
    "# x = independent variables\n",
    "# y = dependent variable\n",
    "\n",
    "x = df[['CO','O3','PM2.5','SO2']].values    #all the dependent variables\n",
    "y = df['Air Quality'].values                  #output variable"
   ]
  },
  {
   "cell_type": "code",
   "execution_count": 13,
   "id": "f2f1c6a5",
   "metadata": {},
   "outputs": [
    {
     "name": "stdout",
     "output_type": "stream",
     "text": [
      "[[ 0.704       0.03348    13.52653061  7.7       ]\n",
      " [ 0.88        0.03996    14.95306122 14.7       ]\n",
      " [ 0.44        0.02484    15.42857143 21.7       ]\n",
      " ...\n",
      " [ 0.528       0.03672     7.68        2.1       ]\n",
      " [ 0.528       0.03348    12.5755102   4.2       ]\n",
      " [ 0.528       0.03564    14.00204082  6.3       ]]\n"
     ]
    }
   ],
   "source": [
    "print(x)  "
   ]
  },
  {
   "cell_type": "code",
   "execution_count": 14,
   "id": "f6102e79",
   "metadata": {},
   "outputs": [
    {
     "name": "stdout",
     "output_type": "stream",
     "text": [
      "[ 54  57  58  47  59  67  39  32  63  62  62  85  93  60  45  62  61  56\n",
      "  42  48  61  61  62  40 101  67  54  42  34  35  64  83  63  63  45  28\n",
      "  37  62  51  35  54  55  35  60  55  43  66 101  67  64  53  60  28  53\n",
      "  44 103  52  48  60  41  43  59  61  58  84  61  72  56  61  70  53  58\n",
      "  67  61  71  57  51  61  45  38  63  87  45  41  74  48  44  58  74  48\n",
      "  49  71  97  61  54  51  51  50  93  61  84  84  64  52  49  59  80  58\n",
      "  62  64 126  52  62  54  50  93  54 129  51  63  77 112 179 174 147 105\n",
      "  73  54  54  57  62  60  57  56  35  67  93 115  39  42  33  30  60  49\n",
      "  49 164 143 150 147 105  84  84  48  41  64  59  80  57  70  87  80  67\n",
      "  38  53  48  52  48  53  45  38  46  77  71  53  50  44  43  41  40  38\n",
      "  34  36  61  48  54  53  51  48  66  87 101  61  62  86  64  76 166  93\n",
      "  45  51  59  65  49  65 122  87  57  36  55  59  59  56 102 140 143  80\n",
      "  45  48  41  37  40 136 169  66  53  58  44  53 129  44  36  31  44  94\n",
      "  93  97  97  81 122  59  50  38  39  49  58  37  80  90  32  54  63  59\n",
      "  45  36  47 122 154 172  74  53  48  56  48  48  42  46  44  54  52  43\n",
      " 122  90 112 119  77  54  53  87  74 154 169 108  61  44  53  67  50 154\n",
      " 161 101  50  62  49  43  52  55  38  54  59  48  44  64  90  55  34  45\n",
      "  33  37  42  62  74  63  49  36  44  41  25  30  61  51  44  38  58  57\n",
      "  38  45  40  36  33  36  61  55  44  37  58  58  50  44  42  48  77  64\n",
      "  54  51  42  35  97  42  36  55  60  59  54  55  60  68  65  56  39  50\n",
      "  49  36  42  52  55]\n"
     ]
    }
   ],
   "source": [
    "print(y)"
   ]
  },
  {
   "cell_type": "code",
   "execution_count": 15,
   "id": "894aa26c",
   "metadata": {},
   "outputs": [],
   "source": [
    "#splitting the training and testing data in 80:20 ratio\n",
    "x_train, x_test, y_train, y_test = train_test_split(x, y, test_size=0.2, random_state=0) "
   ]
  },
  {
   "cell_type": "code",
   "execution_count": 16,
   "id": "a18c2e1f",
   "metadata": {},
   "outputs": [
    {
     "name": "stdout",
     "output_type": "stream",
     "text": [
      "******************************************\n",
      "      Model Training Completed\n",
      "******************************************\n"
     ]
    }
   ],
   "source": [
    "#training the model\n",
    "mlr = LinearRegression()  \n",
    "mlr.fit(x_train, y_train)\n",
    "\n",
    "print(\"******************************************\")\n",
    "print('      Model Training Completed')\n",
    "print(\"******************************************\")"
   ]
  },
  {
   "cell_type": "code",
   "execution_count": 17,
   "id": "150f559c",
   "metadata": {},
   "outputs": [
    {
     "name": "stdout",
     "output_type": "stream",
     "text": [
      "The coefficient c1 = -3.774762110417575\n",
      "The coefficient c2 = 1147.020451285624\n",
      "The coefficient c3 = 2.3870115724145173\n",
      "The coefficient c4 = 0.040957092430238276\n"
     ]
    }
   ],
   "source": [
    "# coefficients of MLR\n",
    "coeff = mlr.coef_\n",
    "c1 = coeff[0]\n",
    "c2 = coeff[1]\n",
    "c3 = coeff[2]\n",
    "c4 = coeff[3]\n",
    "print('The coefficient c1 =',c1)\n",
    "print('The coefficient c2 =',c2)\n",
    "print('The coefficient c3 =',c3)\n",
    "print('The coefficient c4 =',c4)"
   ]
  },
  {
   "cell_type": "code",
   "execution_count": 18,
   "id": "e7bf5bf8",
   "metadata": {},
   "outputs": [
    {
     "name": "stdout",
     "output_type": "stream",
     "text": [
      "The intercept of MLR = -20.186681748023283\n"
     ]
    }
   ],
   "source": [
    "#intercept of mlr\n",
    "i = mlr.intercept_\n",
    "print(\"The intercept of MLR =\",i)"
   ]
  },
  {
   "cell_type": "code",
   "execution_count": 19,
   "id": "62776ec3",
   "metadata": {},
   "outputs": [],
   "source": [
    "#getting the regression line\n",
    "regline = coeff*x + i"
   ]
  },
  {
   "cell_type": "code",
   "execution_count": 20,
   "id": "eea8840d",
   "metadata": {
    "scrolled": true
   },
   "outputs": [
    {
     "name": "stdout",
     "output_type": "stream",
     "text": [
      "[ 96.41218631  64.38517081  43.42802991  70.69187974  51.74897483\n",
      "  38.19462318  63.13742993  69.45533345  79.10586687  39.26980549\n",
      "  84.48528751  27.56302531  58.75826672  68.94873294  44.2537307\n",
      "  66.32634251  62.84874294  87.36706753  98.81748247  36.71436617\n",
      "  58.17496183  35.51044151  51.27688552  54.89629097  91.1173431\n",
      "  62.55628552  62.5221576   41.84751973  68.38702847  57.07366624\n",
      " 109.68280216  77.31689646  61.35166157  56.97333575  46.68083469\n",
      "  61.86221204  49.59979233  54.69566737  51.27244473  90.42806275\n",
      "  76.7547092   65.76259947  96.70129422  52.47834639  60.76740381\n",
      "  37.55128405 119.6329627  125.19695729  60.97333696  82.3688016\n",
      "  63.89778141  49.50192192  98.58187164  38.55215861 106.72087806\n",
      "  61.57241767  27.83702252  77.27587499  64.31607591  70.0590989\n",
      "  31.11387373  96.61258777  35.86664425  79.09290954  35.76662108\n",
      "  52.5798204   54.89401745 122.17529281  32.22177809  83.27593045\n",
      "  64.49132904  59.37496084  62.38847619]\n"
     ]
    }
   ],
   "source": [
    "# TESTING - calculating predicted values\n",
    "y_pred = mlr.predict(x_test)\n",
    "print(y_pred)"
   ]
  },
  {
   "cell_type": "code",
   "execution_count": 21,
   "id": "79e386ab",
   "metadata": {},
   "outputs": [
    {
     "data": {
      "text/html": [
       "<div>\n",
       "<style scoped>\n",
       "    .dataframe tbody tr th:only-of-type {\n",
       "        vertical-align: middle;\n",
       "    }\n",
       "\n",
       "    .dataframe tbody tr th {\n",
       "        vertical-align: top;\n",
       "    }\n",
       "\n",
       "    .dataframe thead th {\n",
       "        text-align: right;\n",
       "    }\n",
       "</style>\n",
       "<table border=\"1\" class=\"dataframe\">\n",
       "  <thead>\n",
       "    <tr style=\"text-align: right;\">\n",
       "      <th></th>\n",
       "      <th>Actual Value (y_test)</th>\n",
       "      <th>Predicted Value (y_pred)</th>\n",
       "    </tr>\n",
       "  </thead>\n",
       "  <tbody>\n",
       "    <tr>\n",
       "      <th>68</th>\n",
       "      <td>37</td>\n",
       "      <td>32.221778</td>\n",
       "    </tr>\n",
       "    <tr>\n",
       "      <th>69</th>\n",
       "      <td>87</td>\n",
       "      <td>83.275930</td>\n",
       "    </tr>\n",
       "    <tr>\n",
       "      <th>70</th>\n",
       "      <td>71</td>\n",
       "      <td>64.491329</td>\n",
       "    </tr>\n",
       "    <tr>\n",
       "      <th>71</th>\n",
       "      <td>46</td>\n",
       "      <td>59.374961</td>\n",
       "    </tr>\n",
       "    <tr>\n",
       "      <th>72</th>\n",
       "      <td>50</td>\n",
       "      <td>62.388476</td>\n",
       "    </tr>\n",
       "  </tbody>\n",
       "</table>\n",
       "</div>"
      ],
      "text/plain": [
       "    Actual Value (y_test)  Predicted Value (y_pred)\n",
       "68                     37                 32.221778\n",
       "69                     87                 83.275930\n",
       "70                     71                 64.491329\n",
       "71                     46                 59.374961\n",
       "72                     50                 62.388476"
      ]
     },
     "execution_count": 21,
     "metadata": {},
     "output_type": "execute_result"
    }
   ],
   "source": [
    "#comparing the values in a dataframe\n",
    "comp = pd.DataFrame({'Actual Value (y_test)':y_test,'Predicted Value (y_pred)':y_pred})\n",
    "comp.tail()      #looking last 5 values       "
   ]
  },
  {
   "cell_type": "code",
   "execution_count": 22,
   "id": "599959dd",
   "metadata": {},
   "outputs": [
    {
     "name": "stdout",
     "output_type": "stream",
     "text": [
      "Training Score evaluated is:  0.7732043397859023\n",
      "Test Score evaluated is:  0.711565307900207\n"
     ]
    }
   ],
   "source": [
    "#calculating the training and testing score\n",
    "print(\"Training Score evaluated is: \",mlr.score(x_train,y_train))\n",
    "print(\"Test Score evaluated is: \",mlr.score(x_test,y_test))"
   ]
  },
  {
   "cell_type": "markdown",
   "id": "47a41130",
   "metadata": {},
   "source": [
    "### Evaluating the Model"
   ]
  },
  {
   "cell_type": "code",
   "execution_count": 23,
   "id": "cfd6a5e5",
   "metadata": {},
   "outputs": [
    {
     "data": {
      "text/html": [
       "<div>\n",
       "<style scoped>\n",
       "    .dataframe tbody tr th:only-of-type {\n",
       "        vertical-align: middle;\n",
       "    }\n",
       "\n",
       "    .dataframe tbody tr th {\n",
       "        vertical-align: top;\n",
       "    }\n",
       "\n",
       "    .dataframe thead th {\n",
       "        text-align: right;\n",
       "    }\n",
       "</style>\n",
       "<table border=\"1\" class=\"dataframe\">\n",
       "  <thead>\n",
       "    <tr style=\"text-align: right;\">\n",
       "      <th></th>\n",
       "      <th>Actual Value (y_test)</th>\n",
       "      <th>Predicted Value (y_pred)</th>\n",
       "    </tr>\n",
       "  </thead>\n",
       "  <tbody>\n",
       "    <tr>\n",
       "      <th>Actual Value (y_test)</th>\n",
       "      <td>1.000000</td>\n",
       "      <td>0.848555</td>\n",
       "    </tr>\n",
       "    <tr>\n",
       "      <th>Predicted Value (y_pred)</th>\n",
       "      <td>0.848555</td>\n",
       "      <td>1.000000</td>\n",
       "    </tr>\n",
       "  </tbody>\n",
       "</table>\n",
       "</div>"
      ],
      "text/plain": [
       "                          Actual Value (y_test)  Predicted Value (y_pred)\n",
       "Actual Value (y_test)                  1.000000                  0.848555\n",
       "Predicted Value (y_pred)               0.848555                  1.000000"
      ]
     },
     "execution_count": 23,
     "metadata": {},
     "output_type": "execute_result"
    }
   ],
   "source": [
    "# 1. checking correlation\n",
    "comp.corr()"
   ]
  },
  {
   "cell_type": "code",
   "execution_count": 24,
   "id": "c0eba76d",
   "metadata": {},
   "outputs": [
    {
     "data": {
      "text/plain": [
       "<AxesSubplot:>"
      ]
     },
     "execution_count": 24,
     "metadata": {},
     "output_type": "execute_result"
    },
    {
     "data": {
      "image/png": "[encoded data removed]",
      "text/plain": [
       "<Figure size 432x288 with 2 Axes>"
      ]
     },
     "metadata": {
      "needs_background": "light"
     },
     "output_type": "display_data"
    }
   ],
   "source": [
    "sns.heatmap(comp.corr(),annot=True,cmap='coolwarm')"
   ]
  },
  {
   "cell_type": "markdown",
   "id": "1b7429f9",
   "metadata": {},
   "source": [
    "- the predicted and actual results are 85% correlated."
   ]
  },
  {
   "cell_type": "code",
   "execution_count": 25,
   "id": "6cba7c0f",
   "metadata": {},
   "outputs": [
    {
     "name": "stdout",
     "output_type": "stream",
     "text": [
      "Mean Squared Error is : 258.95990327100117\n",
      "Root Mean Squared Error is : 16.092231146457014\n",
      "Mean Absolute Error is : 11.18096064852346\n",
      "R-2 Score is : 0.711565307900207\n"
     ]
    }
   ],
   "source": [
    "# 2: Mean Square Error , Root Mean Square Error, Mean Absolute Error and R2 score evaluation\n",
    "print('Mean Squared Error is :', metrics.mean_squared_error(y_test, y_pred))\n",
    "print('Root Mean Squared Error is :', np.sqrt(metrics.mean_squared_error(y_test, y_pred)))\n",
    "print('Mean Absolute Error is :',metrics.mean_absolute_error(y_test, y_pred)) \n",
    "print('R-2 Score is :', metrics.r2_score(y_test, y_pred))"
   ]
  },
  {
   "cell_type": "markdown",
   "id": "6abf3268",
   "metadata": {},
   "source": [
    "- The lesser the error the efficient the model is, thus this model has a 71% R2 score (accuracy)."
   ]
  },
  {
   "cell_type": "code",
   "execution_count": 26,
   "id": "ff32ab5f",
   "metadata": {},
   "outputs": [
    {
     "data": {
      "image/png": "[encoded data removed]",
      "text/plain": [
       "<Figure size 600x400 with 1 Axes>"
      ]
     },
     "metadata": {
      "needs_background": "light"
     },
     "output_type": "display_data"
    }
   ],
   "source": [
    "# 3. Regression Plot\n",
    "plt.figure(dpi=100)\n",
    "plt.scatter(y_test, y_pred)\n",
    "plt.xlabel('Actual')\n",
    "plt.ylabel('Predicted')\n",
    "plt.title('Actual vs Predicted Regression Plot')\n",
    "plt.tight_layout()\n",
    "plt.show()"
   ]
  },
  {
   "cell_type": "code",
   "execution_count": null,
   "id": "61b1eaff",
   "metadata": {},
   "outputs": [],
   "source": []
  },
  {
   "cell_type": "code",
   "execution_count": null,
   "id": "2c074bc9",
   "metadata": {},
   "outputs": [],
   "source": []
  }
 ],
 "metadata": {
  "kernelspec": {
   "display_name": "Python 3",
   "language": "python",
   "name": "python3"
  },
  "language_info": {
   "codemirror_mode": {
    "name": "ipython",
    "version": 3
   },
   "file_extension": ".py",
   "mimetype": "text/x-python",
   "name": "python",
   "nbconvert_exporter": "python",
   "pygments_lexer": "ipython3",
   "version": "3.8.8"
  }
 },
 "nbformat": 4,
 "nbformat_minor": 5
}
