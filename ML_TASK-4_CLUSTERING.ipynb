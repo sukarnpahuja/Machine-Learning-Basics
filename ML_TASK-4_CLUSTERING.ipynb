{
 "cells": [
  {
   "cell_type": "markdown",
   "id": "8aee433b",
   "metadata": {},
   "source": [
    "# CLUSTERING\n",
    "- Clustering is the task of dividing the population or data points into a number of groups such that data points in the same groups are more similar to other data points in the same group than those in other groups. In simple words, the aim is to segregate groups with similar traits and assign them into clusters."
   ]
  },
  {
   "cell_type": "markdown",
   "id": "d490d5e5",
   "metadata": {},
   "source": [
    "### Importing Libraries"
   ]
  },
  {
   "cell_type": "code",
   "execution_count": 1,
   "id": "d51df545",
   "metadata": {},
   "outputs": [],
   "source": [
    "#importing libraries\n",
    "import numpy as np\n",
    "import pandas as pd\n",
    "import matplotlib.pyplot as plt\n",
    "%matplotlib inline"
   ]
  },
  {
   "cell_type": "markdown",
   "id": "153db1d2",
   "metadata": {},
   "source": [
    "### Importing Dataset and its Analysis"
   ]
  },
  {
   "cell_type": "code",
   "execution_count": 7,
   "id": "ba44ff14",
   "metadata": {},
   "outputs": [
    {
     "data": {
      "text/html": [
       "<div>\n",
       "<style scoped>\n",
       "    .dataframe tbody tr th:only-of-type {\n",
       "        vertical-align: middle;\n",
       "    }\n",
       "\n",
       "    .dataframe tbody tr th {\n",
       "        vertical-align: top;\n",
       "    }\n",
       "\n",
       "    .dataframe thead th {\n",
       "        text-align: right;\n",
       "    }\n",
       "</style>\n",
       "<table border=\"1\" class=\"dataframe\">\n",
       "  <thead>\n",
       "    <tr style=\"text-align: right;\">\n",
       "      <th></th>\n",
       "      <th>Id</th>\n",
       "      <th>SepalLengthCm</th>\n",
       "      <th>SepalWidthCm</th>\n",
       "      <th>PetalLengthCm</th>\n",
       "      <th>PetalWidthCm</th>\n",
       "      <th>Species</th>\n",
       "    </tr>\n",
       "  </thead>\n",
       "  <tbody>\n",
       "    <tr>\n",
       "      <th>0</th>\n",
       "      <td>1</td>\n",
       "      <td>5.1</td>\n",
       "      <td>3.5</td>\n",
       "      <td>1.4</td>\n",
       "      <td>0.2</td>\n",
       "      <td>Iris-setosa</td>\n",
       "    </tr>\n",
       "    <tr>\n",
       "      <th>1</th>\n",
       "      <td>2</td>\n",
       "      <td>4.9</td>\n",
       "      <td>3.0</td>\n",
       "      <td>1.4</td>\n",
       "      <td>0.2</td>\n",
       "      <td>Iris-setosa</td>\n",
       "    </tr>\n",
       "    <tr>\n",
       "      <th>2</th>\n",
       "      <td>3</td>\n",
       "      <td>4.7</td>\n",
       "      <td>3.2</td>\n",
       "      <td>1.3</td>\n",
       "      <td>0.2</td>\n",
       "      <td>Iris-setosa</td>\n",
       "    </tr>\n",
       "    <tr>\n",
       "      <th>3</th>\n",
       "      <td>4</td>\n",
       "      <td>4.6</td>\n",
       "      <td>3.1</td>\n",
       "      <td>1.5</td>\n",
       "      <td>0.2</td>\n",
       "      <td>Iris-setosa</td>\n",
       "    </tr>\n",
       "    <tr>\n",
       "      <th>4</th>\n",
       "      <td>5</td>\n",
       "      <td>5.0</td>\n",
       "      <td>3.6</td>\n",
       "      <td>1.4</td>\n",
       "      <td>0.2</td>\n",
       "      <td>Iris-setosa</td>\n",
       "    </tr>\n",
       "  </tbody>\n",
       "</table>\n",
       "</div>"
      ],
      "text/plain": [
       "   Id  SepalLengthCm  SepalWidthCm  PetalLengthCm  PetalWidthCm      Species\n",
       "0   1            5.1           3.5            1.4           0.2  Iris-setosa\n",
       "1   2            4.9           3.0            1.4           0.2  Iris-setosa\n",
       "2   3            4.7           3.2            1.3           0.2  Iris-setosa\n",
       "3   4            4.6           3.1            1.5           0.2  Iris-setosa\n",
       "4   5            5.0           3.6            1.4           0.2  Iris-setosa"
      ]
     },
     "execution_count": 7,
     "metadata": {},
     "output_type": "execute_result"
    }
   ],
   "source": [
    "data = pd.read_csv(\"Iris.csv\")\n",
    "data.head()"
   ]
  },
  {
   "cell_type": "code",
   "execution_count": 8,
   "id": "29e9358a",
   "metadata": {},
   "outputs": [
    {
     "data": {
      "text/plain": [
       "Id               0\n",
       "SepalLengthCm    0\n",
       "SepalWidthCm     0\n",
       "PetalLengthCm    0\n",
       "PetalWidthCm     0\n",
       "Species          0\n",
       "dtype: int64"
      ]
     },
     "execution_count": 8,
     "metadata": {},
     "output_type": "execute_result"
    }
   ],
   "source": [
    "#checking for null values\n",
    "data.isna().sum()"
   ]
  },
  {
   "cell_type": "code",
   "execution_count": 9,
   "id": "85b347c4",
   "metadata": {},
   "outputs": [
    {
     "data": {
      "text/plain": [
       "(150, 6)"
      ]
     },
     "execution_count": 9,
     "metadata": {},
     "output_type": "execute_result"
    }
   ],
   "source": [
    "data.shape"
   ]
  },
  {
   "cell_type": "code",
   "execution_count": 21,
   "id": "3ed84135",
   "metadata": {},
   "outputs": [
    {
     "data": {
      "image/png": "[encoded data removed]",
      "text/plain": [
       "<Figure size 432x288 with 1 Axes>"
      ]
     },
     "metadata": {
      "needs_background": "light"
     },
     "output_type": "display_data"
    }
   ],
   "source": [
    "data.groupby('Species').size().plot.bar()\n",
    "plt.show()"
   ]
  },
  {
   "cell_type": "code",
   "execution_count": 25,
   "id": "261e272d",
   "metadata": {},
   "outputs": [
    {
     "data": {
      "text/html": [
       "<div>\n",
       "<style scoped>\n",
       "    .dataframe tbody tr th:only-of-type {\n",
       "        vertical-align: middle;\n",
       "    }\n",
       "\n",
       "    .dataframe tbody tr th {\n",
       "        vertical-align: top;\n",
       "    }\n",
       "\n",
       "    .dataframe thead th {\n",
       "        text-align: right;\n",
       "    }\n",
       "</style>\n",
       "<table border=\"1\" class=\"dataframe\">\n",
       "  <thead>\n",
       "    <tr style=\"text-align: right;\">\n",
       "      <th></th>\n",
       "      <th>SepalLengthCm</th>\n",
       "      <th>SepalWidthCm</th>\n",
       "      <th>PetalLengthCm</th>\n",
       "      <th>PetalWidthCm</th>\n",
       "    </tr>\n",
       "  </thead>\n",
       "  <tbody>\n",
       "    <tr>\n",
       "      <th>0</th>\n",
       "      <td>5.1</td>\n",
       "      <td>3.5</td>\n",
       "      <td>1.4</td>\n",
       "      <td>0.2</td>\n",
       "    </tr>\n",
       "    <tr>\n",
       "      <th>1</th>\n",
       "      <td>4.9</td>\n",
       "      <td>3.0</td>\n",
       "      <td>1.4</td>\n",
       "      <td>0.2</td>\n",
       "    </tr>\n",
       "    <tr>\n",
       "      <th>2</th>\n",
       "      <td>4.7</td>\n",
       "      <td>3.2</td>\n",
       "      <td>1.3</td>\n",
       "      <td>0.2</td>\n",
       "    </tr>\n",
       "    <tr>\n",
       "      <th>3</th>\n",
       "      <td>4.6</td>\n",
       "      <td>3.1</td>\n",
       "      <td>1.5</td>\n",
       "      <td>0.2</td>\n",
       "    </tr>\n",
       "    <tr>\n",
       "      <th>4</th>\n",
       "      <td>5.0</td>\n",
       "      <td>3.6</td>\n",
       "      <td>1.4</td>\n",
       "      <td>0.2</td>\n",
       "    </tr>\n",
       "  </tbody>\n",
       "</table>\n",
       "</div>"
      ],
      "text/plain": [
       "   SepalLengthCm  SepalWidthCm  PetalLengthCm  PetalWidthCm\n",
       "0            5.1           3.5            1.4           0.2\n",
       "1            4.9           3.0            1.4           0.2\n",
       "2            4.7           3.2            1.3           0.2\n",
       "3            4.6           3.1            1.5           0.2\n",
       "4            5.0           3.6            1.4           0.2"
      ]
     },
     "execution_count": 25,
     "metadata": {},
     "output_type": "execute_result"
    }
   ],
   "source": [
    "df = data.copy()\n",
    "df = df.drop('Species',axis=1)\n",
    "df = df.drop('Id',axis=1)\n",
    "df.head()"
   ]
  },
  {
   "cell_type": "code",
   "execution_count": 26,
   "id": "097fa35c",
   "metadata": {},
   "outputs": [
    {
     "data": {
      "text/html": [
       "<div>\n",
       "<style scoped>\n",
       "    .dataframe tbody tr th:only-of-type {\n",
       "        vertical-align: middle;\n",
       "    }\n",
       "\n",
       "    .dataframe tbody tr th {\n",
       "        vertical-align: top;\n",
       "    }\n",
       "\n",
       "    .dataframe thead th {\n",
       "        text-align: right;\n",
       "    }\n",
       "</style>\n",
       "<table border=\"1\" class=\"dataframe\">\n",
       "  <thead>\n",
       "    <tr style=\"text-align: right;\">\n",
       "      <th></th>\n",
       "      <th>SepalLengthCm</th>\n",
       "      <th>SepalWidthCm</th>\n",
       "      <th>PetalLengthCm</th>\n",
       "      <th>PetalWidthCm</th>\n",
       "    </tr>\n",
       "  </thead>\n",
       "  <tbody>\n",
       "    <tr>\n",
       "      <th>count</th>\n",
       "      <td>150.000000</td>\n",
       "      <td>150.000000</td>\n",
       "      <td>150.000000</td>\n",
       "      <td>150.000000</td>\n",
       "    </tr>\n",
       "    <tr>\n",
       "      <th>mean</th>\n",
       "      <td>5.843333</td>\n",
       "      <td>3.054000</td>\n",
       "      <td>3.758667</td>\n",
       "      <td>1.198667</td>\n",
       "    </tr>\n",
       "    <tr>\n",
       "      <th>std</th>\n",
       "      <td>0.828066</td>\n",
       "      <td>0.433594</td>\n",
       "      <td>1.764420</td>\n",
       "      <td>0.763161</td>\n",
       "    </tr>\n",
       "    <tr>\n",
       "      <th>min</th>\n",
       "      <td>4.300000</td>\n",
       "      <td>2.000000</td>\n",
       "      <td>1.000000</td>\n",
       "      <td>0.100000</td>\n",
       "    </tr>\n",
       "    <tr>\n",
       "      <th>25%</th>\n",
       "      <td>5.100000</td>\n",
       "      <td>2.800000</td>\n",
       "      <td>1.600000</td>\n",
       "      <td>0.300000</td>\n",
       "    </tr>\n",
       "    <tr>\n",
       "      <th>50%</th>\n",
       "      <td>5.800000</td>\n",
       "      <td>3.000000</td>\n",
       "      <td>4.350000</td>\n",
       "      <td>1.300000</td>\n",
       "    </tr>\n",
       "    <tr>\n",
       "      <th>75%</th>\n",
       "      <td>6.400000</td>\n",
       "      <td>3.300000</td>\n",
       "      <td>5.100000</td>\n",
       "      <td>1.800000</td>\n",
       "    </tr>\n",
       "    <tr>\n",
       "      <th>max</th>\n",
       "      <td>7.900000</td>\n",
       "      <td>4.400000</td>\n",
       "      <td>6.900000</td>\n",
       "      <td>2.500000</td>\n",
       "    </tr>\n",
       "  </tbody>\n",
       "</table>\n",
       "</div>"
      ],
      "text/plain": [
       "       SepalLengthCm  SepalWidthCm  PetalLengthCm  PetalWidthCm\n",
       "count     150.000000    150.000000     150.000000    150.000000\n",
       "mean        5.843333      3.054000       3.758667      1.198667\n",
       "std         0.828066      0.433594       1.764420      0.763161\n",
       "min         4.300000      2.000000       1.000000      0.100000\n",
       "25%         5.100000      2.800000       1.600000      0.300000\n",
       "50%         5.800000      3.000000       4.350000      1.300000\n",
       "75%         6.400000      3.300000       5.100000      1.800000\n",
       "max         7.900000      4.400000       6.900000      2.500000"
      ]
     },
     "execution_count": 26,
     "metadata": {},
     "output_type": "execute_result"
    }
   ],
   "source": [
    "df.describe()"
   ]
  },
  {
   "cell_type": "code",
   "execution_count": 28,
   "id": "590299ff",
   "metadata": {},
   "outputs": [
    {
     "data": {
      "text/plain": [
       "(150, 4)"
      ]
     },
     "execution_count": 28,
     "metadata": {},
     "output_type": "execute_result"
    }
   ],
   "source": [
    "df.shape"
   ]
  },
  {
   "cell_type": "code",
   "execution_count": 29,
   "id": "27b0445d",
   "metadata": {},
   "outputs": [
    {
     "data": {
      "text/plain": [
       "(150, 4)"
      ]
     },
     "execution_count": 29,
     "metadata": {},
     "output_type": "execute_result"
    }
   ],
   "source": [
    "#normalizing the data\n",
    "from sklearn.preprocessing import MinMaxScaler\n",
    "n = MinMaxScaler()\n",
    "n.fit(df)\n",
    "norm = n.transform(df)\n",
    "norm.shape"
   ]
  },
  {
   "cell_type": "code",
   "execution_count": 30,
   "id": "5b59be11",
   "metadata": {},
   "outputs": [
    {
     "name": "stdout",
     "output_type": "stream",
     "text": [
      "<class 'pandas.core.frame.DataFrame'>\n",
      "RangeIndex: 150 entries, 0 to 149\n",
      "Data columns (total 4 columns):\n",
      " #   Column         Non-Null Count  Dtype  \n",
      "---  ------         --------------  -----  \n",
      " 0   SepalLengthCm  150 non-null    float64\n",
      " 1   SepalWidthCm   150 non-null    float64\n",
      " 2   PetalLengthCm  150 non-null    float64\n",
      " 3   PetalWidthCm   150 non-null    float64\n",
      "dtypes: float64(4)\n",
      "memory usage: 4.8 KB\n"
     ]
    }
   ],
   "source": [
    "df.info()"
   ]
  },
  {
   "cell_type": "markdown",
   "id": "9066044f",
   "metadata": {},
   "source": [
    "### Types of Clustering Analysis\n",
    "We are going to compare three types of clustering and their performance metrcs.\n",
    "- Affinity Propogation Clustering\n",
    "- Mean Shift Clustering\n",
    "- Mixture of Gaussians Clustering"
   ]
  },
  {
   "cell_type": "code",
   "execution_count": 31,
   "id": "fb4445d8",
   "metadata": {},
   "outputs": [],
   "source": [
    "# importing libraries\n",
    "from sklearn.cluster import AffinityPropagation, MeanShift\n",
    "from sklearn.mixture import GaussianMixture\n",
    "from sklearn.decomposition import PCA\n",
    "from sklearn import metrics"
   ]
  },
  {
   "cell_type": "code",
   "execution_count": 41,
   "id": "b3657bc0",
   "metadata": {},
   "outputs": [
    {
     "name": "stdout",
     "output_type": "stream",
     "text": [
      "Estimated number of clusters: 3\n",
      "0 Iris-setosa\n",
      "1 Iris-versicolor\n",
      "2 Iris-virginica\n"
     ]
    },
    {
     "name": "stderr",
     "output_type": "stream",
     "text": [
      "C:\\Users\\91999\\anaconda3\\lib\\site-packages\\sklearn\\cluster\\_affinity_propagation.py:148: FutureWarning: 'random_state' has been introduced in 0.23. It will be set to None starting from 1.0 (renaming of 0.25) which means that results will differ at every function call. Set 'random_state' to None to silence this warning, or to 0 to keep the behavior of versions <0.23.\n",
      "  warnings.warn(\n"
     ]
    },
    {
     "data": {
      "text/html": [
       "<div>\n",
       "<style scoped>\n",
       "    .dataframe tbody tr th:only-of-type {\n",
       "        vertical-align: middle;\n",
       "    }\n",
       "\n",
       "    .dataframe tbody tr th {\n",
       "        vertical-align: top;\n",
       "    }\n",
       "\n",
       "    .dataframe thead th {\n",
       "        text-align: right;\n",
       "    }\n",
       "</style>\n",
       "<table border=\"1\" class=\"dataframe\">\n",
       "  <thead>\n",
       "    <tr style=\"text-align: right;\">\n",
       "      <th></th>\n",
       "      <th>Species</th>\n",
       "      <th>Cluster</th>\n",
       "      <th>TransLabel</th>\n",
       "    </tr>\n",
       "  </thead>\n",
       "  <tbody>\n",
       "    <tr>\n",
       "      <th>97</th>\n",
       "      <td>Iris-versicolor</td>\n",
       "      <td>1</td>\n",
       "      <td>Iris-versicolor</td>\n",
       "    </tr>\n",
       "    <tr>\n",
       "      <th>132</th>\n",
       "      <td>Iris-virginica</td>\n",
       "      <td>2</td>\n",
       "      <td>Iris-virginica</td>\n",
       "    </tr>\n",
       "    <tr>\n",
       "      <th>117</th>\n",
       "      <td>Iris-virginica</td>\n",
       "      <td>2</td>\n",
       "      <td>Iris-virginica</td>\n",
       "    </tr>\n",
       "    <tr>\n",
       "      <th>27</th>\n",
       "      <td>Iris-setosa</td>\n",
       "      <td>0</td>\n",
       "      <td>Iris-setosa</td>\n",
       "    </tr>\n",
       "    <tr>\n",
       "      <th>130</th>\n",
       "      <td>Iris-virginica</td>\n",
       "      <td>2</td>\n",
       "      <td>Iris-virginica</td>\n",
       "    </tr>\n",
       "  </tbody>\n",
       "</table>\n",
       "</div>"
      ],
      "text/plain": [
       "             Species  Cluster       TransLabel\n",
       "97   Iris-versicolor        1  Iris-versicolor\n",
       "132   Iris-virginica        2   Iris-virginica\n",
       "117   Iris-virginica        2   Iris-virginica\n",
       "27       Iris-setosa        0      Iris-setosa\n",
       "130   Iris-virginica        2   Iris-virginica"
      ]
     },
     "execution_count": 41,
     "metadata": {},
     "output_type": "execute_result"
    }
   ],
   "source": [
    "# 1. AFFINITY PROPORTION\n",
    "\n",
    "#estimating the number of clusters\n",
    "af = AffinityPropagation(preference=-3).fit(norm)\n",
    "cluster_centers_indices = af.cluster_centers_indices_\n",
    "labels = af.labels_\n",
    "n_clusters_ = len(cluster_centers_indices)\n",
    "print('Estimated number of clusters: %d' % n_clusters_)\n",
    "\n",
    "#assigning cluster number to each data\n",
    "Clustered = norm.copy()\n",
    "Clustered = pd.DataFrame(Clustered)\n",
    "Clustered.loc[:,'Cluster'] = af.labels_ # append labels to points\n",
    "frames = [data['Species'], Clustered['Cluster']]\n",
    "result = pd.concat(frames, axis = 1)\n",
    "\n",
    "#assigning a label to each cluster\n",
    "for ClusterNum in range(3):\n",
    "    OneCluster = pd.DataFrame(result[result['Cluster'] == ClusterNum].groupby('Species').size())\n",
    "    OneCluster.columns=['Size']\n",
    "    NewDigit = OneCluster.index[OneCluster['Size'] == OneCluster['Size'].max()].tolist()\n",
    "    NewDigit[0]\n",
    "    rowIndex = result.index[result['Cluster'] == ClusterNum]\n",
    "    result.loc[rowIndex, 'TransLabel'] = NewDigit[0]\n",
    "    print(ClusterNum, NewDigit[0])\n",
    "    \n",
    "result.sample(5) #clustered data"
   ]
  },
  {
   "cell_type": "code",
   "execution_count": 48,
   "id": "3bb97376",
   "metadata": {},
   "outputs": [
    {
     "name": "stdout",
     "output_type": "stream",
     "text": [
      "----------------------------------------\n",
      "AFFINITY PROPORTION CLUSTERING ANALYSIS:\n",
      "----------------------------------------\n",
      "Accuracy  0.9\n",
      "Silhouette:  0.696\n",
      "Homogeneity Score:  0.77\n",
      "Completeness Score:  0.786\n",
      "V-Measure Score:  0.778\n",
      "Adjusted Rand Score:  0.745\n",
      "Adjusted Mutual Info Score:  0.775\n"
     ]
    }
   ],
   "source": [
    "#metric performance analysis \n",
    "print(\"-\"*40)\n",
    "print('AFFINITY PROPORTION CLUSTERING ANALYSIS:')\n",
    "print(\"-\"*40)\n",
    "\n",
    "Correct = (data['Species'] == result['TransLabel']).sum()\n",
    "Accuracy = round(Correct/df.shape[0],3)\n",
    "print('Accuracy ', Accuracy)\n",
    "print('Silhouette: ', round(metrics.silhouette_score(norm, result['TransLabel'],metric='sqeuclidean'),3))\n",
    "print('Homogeneity Score: ', round(metrics.homogeneity_score(data['Species'], result['TransLabel']),3))\n",
    "print('Completeness Score: ', round(metrics.completeness_score(data['Species'], result['TransLabel']),3))\n",
    "print('V-Measure Score: ', round(metrics.v_measure_score(data['Species'], result['TransLabel']),3))\n",
    "print('Adjusted Rand Score: ', round(metrics.adjusted_rand_score(data['Species'], result['TransLabel']),3))\n",
    "print('Adjusted Mutual Info Score: ', round(metrics.adjusted_mutual_info_score(data['Species'], result['TransLabel']),3))"
   ]
  },
  {
   "cell_type": "markdown",
   "id": "b1374692",
   "metadata": {},
   "source": [
    "**Affinity Proportion Clustering gives an accuracy of 90%.**"
   ]
  },
  {
   "cell_type": "code",
   "execution_count": 55,
   "id": "3992dfa9",
   "metadata": {},
   "outputs": [
    {
     "name": "stdout",
     "output_type": "stream",
     "text": [
      "Estimated number of clusters : 3\n",
      "0 Iris-versicolor\n",
      "1 Iris-setosa\n",
      "2 Iris-virginica\n"
     ]
    },
    {
     "data": {
      "text/html": [
       "<div>\n",
       "<style scoped>\n",
       "    .dataframe tbody tr th:only-of-type {\n",
       "        vertical-align: middle;\n",
       "    }\n",
       "\n",
       "    .dataframe tbody tr th {\n",
       "        vertical-align: top;\n",
       "    }\n",
       "\n",
       "    .dataframe thead th {\n",
       "        text-align: right;\n",
       "    }\n",
       "</style>\n",
       "<table border=\"1\" class=\"dataframe\">\n",
       "  <thead>\n",
       "    <tr style=\"text-align: right;\">\n",
       "      <th></th>\n",
       "      <th>Species</th>\n",
       "      <th>Cluster</th>\n",
       "      <th>TransLabel</th>\n",
       "    </tr>\n",
       "  </thead>\n",
       "  <tbody>\n",
       "    <tr>\n",
       "      <th>136</th>\n",
       "      <td>Iris-virginica</td>\n",
       "      <td>2</td>\n",
       "      <td>Iris-virginica</td>\n",
       "    </tr>\n",
       "    <tr>\n",
       "      <th>105</th>\n",
       "      <td>Iris-virginica</td>\n",
       "      <td>2</td>\n",
       "      <td>Iris-virginica</td>\n",
       "    </tr>\n",
       "    <tr>\n",
       "      <th>52</th>\n",
       "      <td>Iris-versicolor</td>\n",
       "      <td>0</td>\n",
       "      <td>Iris-versicolor</td>\n",
       "    </tr>\n",
       "    <tr>\n",
       "      <th>34</th>\n",
       "      <td>Iris-setosa</td>\n",
       "      <td>1</td>\n",
       "      <td>Iris-setosa</td>\n",
       "    </tr>\n",
       "    <tr>\n",
       "      <th>15</th>\n",
       "      <td>Iris-setosa</td>\n",
       "      <td>1</td>\n",
       "      <td>Iris-setosa</td>\n",
       "    </tr>\n",
       "  </tbody>\n",
       "</table>\n",
       "</div>"
      ],
      "text/plain": [
       "             Species  Cluster       TransLabel\n",
       "136   Iris-virginica        2   Iris-virginica\n",
       "105   Iris-virginica        2   Iris-virginica\n",
       "52   Iris-versicolor        0  Iris-versicolor\n",
       "34       Iris-setosa        1      Iris-setosa\n",
       "15       Iris-setosa        1      Iris-setosa"
      ]
     },
     "execution_count": 55,
     "metadata": {},
     "output_type": "execute_result"
    }
   ],
   "source": [
    "# 2. MEAN SHIFT CLUSTERING\n",
    "from sklearn.cluster import estimate_bandwidth\n",
    "bandwidth = estimate_bandwidth(norm, quantile=0.2)\n",
    "\n",
    "#estimating the number of clusters\n",
    "ms = MeanShift(bandwidth=bandwidth, bin_seeding=True)\n",
    "ms.fit(norm)\n",
    "labels = ms.labels_\n",
    "cluster_centers = ms.cluster_centers_\n",
    "labels_unique = np.unique(labels)\n",
    "n_clusters_ = len(labels_unique)\n",
    "print(\"Estimated number of clusters : %d\" % n_clusters_)\n",
    "\n",
    "#assigning cluster number to each data\n",
    "Clustered = norm.copy()\n",
    "Clustered = pd.DataFrame(Clustered)\n",
    "Clustered.loc[:,'Cluster'] = ms.labels_ # append labels to points\n",
    "frames = [data['Species'], Clustered['Cluster']]\n",
    "result = pd.concat(frames, axis = 1)\n",
    "\n",
    "#assigning a label to each data\n",
    "for ClusterNum in range(3):\n",
    "    OneCluster = pd.DataFrame(result[result['Cluster'] == ClusterNum].groupby('Species').size())\n",
    "    OneCluster.columns=['Size']\n",
    "    NewDigit = OneCluster.index[OneCluster['Size'] == OneCluster['Size'].max()].tolist()\n",
    "    NewDigit[0]\n",
    "    rowIndex = result.index[result['Cluster'] == ClusterNum]\n",
    "    result.loc[rowIndex, 'TransLabel'] = NewDigit[0]\n",
    "    print(ClusterNum, NewDigit[0])\n",
    "    \n",
    "result.sample(5) #clustered data"
   ]
  },
  {
   "cell_type": "code",
   "execution_count": 58,
   "id": "8f2757b3",
   "metadata": {},
   "outputs": [
    {
     "name": "stdout",
     "output_type": "stream",
     "text": [
      "-----------------------------------\n",
      "MEAN SHIFT CLUSTERING ANALYSIS:\n",
      "-----------------------------------\n",
      "Accuracy  0.793\n",
      "Silhouette:  0.635\n",
      "Homogeneity Score:  0.673\n",
      "Completeness Score:  0.77\n",
      "V-Measure Score:  0.718\n",
      "Adjusted Rand Score:  0.593\n",
      "Adjusted Mutual Info Score:  0.714\n"
     ]
    }
   ],
   "source": [
    "#metric performance analysis \n",
    "print(\"-\"*35)\n",
    "print('MEAN SHIFT CLUSTERING ANALYSIS:')\n",
    "print(\"-\"*35)\n",
    "\n",
    "Correct = (data['Species'] == result['TransLabel']).sum()\n",
    "Accuracy = round(Correct/df.shape[0],3)\n",
    "print('Accuracy ', Accuracy)\n",
    "print('Silhouette: ', round(metrics.silhouette_score(norm, result['TransLabel'],metric='sqeuclidean'),3))\n",
    "print('Homogeneity Score: ', round(metrics.homogeneity_score(data['Species'], result['TransLabel']),3))\n",
    "print('Completeness Score: ', round(metrics.completeness_score(data['Species'], result['TransLabel']),3))\n",
    "print('V-Measure Score: ', round(metrics.v_measure_score(data['Species'], result['TransLabel']),3))\n",
    "print('Adjusted Rand Score: ', round(metrics.adjusted_rand_score(data['Species'], result['TransLabel']),3))\n",
    "print('Adjusted Mutual Info Score: ', round(metrics.adjusted_mutual_info_score(data['Species'], result['TransLabel']),3))"
   ]
  },
  {
   "cell_type": "markdown",
   "id": "116c2616",
   "metadata": {},
   "source": [
    "**Mean Shift Clustering gives an accuracy of 79.3%.**"
   ]
  },
  {
   "cell_type": "code",
   "execution_count": 70,
   "id": "8b705934",
   "metadata": {},
   "outputs": [
    {
     "name": "stdout",
     "output_type": "stream",
     "text": [
      "number of estimated clusters : 3\n",
      "0 Iris-setosa\n",
      "1 Iris-virginica\n",
      "2 Iris-versicolor\n"
     ]
    },
    {
     "data": {
      "text/html": [
       "<div>\n",
       "<style scoped>\n",
       "    .dataframe tbody tr th:only-of-type {\n",
       "        vertical-align: middle;\n",
       "    }\n",
       "\n",
       "    .dataframe tbody tr th {\n",
       "        vertical-align: top;\n",
       "    }\n",
       "\n",
       "    .dataframe thead th {\n",
       "        text-align: right;\n",
       "    }\n",
       "</style>\n",
       "<table border=\"1\" class=\"dataframe\">\n",
       "  <thead>\n",
       "    <tr style=\"text-align: right;\">\n",
       "      <th></th>\n",
       "      <th>Species</th>\n",
       "      <th>Cluster</th>\n",
       "      <th>TransLabel</th>\n",
       "    </tr>\n",
       "  </thead>\n",
       "  <tbody>\n",
       "    <tr>\n",
       "      <th>104</th>\n",
       "      <td>Iris-virginica</td>\n",
       "      <td>1</td>\n",
       "      <td>Iris-virginica</td>\n",
       "    </tr>\n",
       "    <tr>\n",
       "      <th>127</th>\n",
       "      <td>Iris-virginica</td>\n",
       "      <td>1</td>\n",
       "      <td>Iris-virginica</td>\n",
       "    </tr>\n",
       "    <tr>\n",
       "      <th>138</th>\n",
       "      <td>Iris-virginica</td>\n",
       "      <td>1</td>\n",
       "      <td>Iris-virginica</td>\n",
       "    </tr>\n",
       "    <tr>\n",
       "      <th>143</th>\n",
       "      <td>Iris-virginica</td>\n",
       "      <td>1</td>\n",
       "      <td>Iris-virginica</td>\n",
       "    </tr>\n",
       "    <tr>\n",
       "      <th>83</th>\n",
       "      <td>Iris-versicolor</td>\n",
       "      <td>1</td>\n",
       "      <td>Iris-virginica</td>\n",
       "    </tr>\n",
       "  </tbody>\n",
       "</table>\n",
       "</div>"
      ],
      "text/plain": [
       "             Species  Cluster      TransLabel\n",
       "104   Iris-virginica        1  Iris-virginica\n",
       "127   Iris-virginica        1  Iris-virginica\n",
       "138   Iris-virginica        1  Iris-virginica\n",
       "143   Iris-virginica        1  Iris-virginica\n",
       "83   Iris-versicolor        1  Iris-virginica"
      ]
     },
     "execution_count": 70,
     "metadata": {},
     "output_type": "execute_result"
    }
   ],
   "source": [
    "# 3. Mixture of Gaussians Clustering\n",
    "\n",
    "#estimating the number of clusters\n",
    "sc = GaussianMixture(n_components=3, covariance_type='full')\n",
    "y_pred = sc.fit_predict(norm)\n",
    "print(\"number of estimated clusters : %d\" % len(set(y_pred)))\n",
    "\n",
    "#assigning cluster number to each data\n",
    "Clustered = norm.copy()\n",
    "Clustered = pd.DataFrame(Clustered)\n",
    "Clustered.loc[:,'Cluster'] = y_pred \n",
    "frames = [data['Species'], Clustered['Cluster']]\n",
    "result = pd.concat(frames, axis = 1)\n",
    "\n",
    "#assigning a label to each cluster\n",
    "for ClusterNum in range(3):\n",
    "    OneCluster = pd.DataFrame(result[result['Cluster'] == ClusterNum].groupby('Species').size())\n",
    "    OneCluster.columns=['Size']\n",
    "    NewDigit = OneCluster.index[OneCluster['Size'] == OneCluster['Size'].max()].tolist()\n",
    "    NewDigit[0]\n",
    "    rowIndex = result.index[result['Cluster'] == ClusterNum]\n",
    "    result.loc[rowIndex, 'TransLabel'] = NewDigit[0]\n",
    "    print(ClusterNum, NewDigit[0])\n",
    "    \n",
    "result.sample(5) #clustered data"
   ]
  },
  {
   "cell_type": "code",
   "execution_count": 71,
   "id": "f1166b7d",
   "metadata": {},
   "outputs": [
    {
     "name": "stdout",
     "output_type": "stream",
     "text": [
      "---------------------------------------------\n",
      "MIXTURE OF GAUSSIANS CLUSTERING ANALYSIS:\n",
      "---------------------------------------------\n",
      "Accuracy  0.967\n",
      "Silhouette:  0.606\n",
      "Homogeneity Score:  0.898\n",
      "Completeness Score:  0.901\n",
      "V-Measure Score:  0.9\n",
      "Adjusted Rand Score:  0.904\n",
      "Adjusted Mutual Info Score:  0.898\n"
     ]
    }
   ],
   "source": [
    "#metric performance analysis \n",
    "print(\"-\"*45)\n",
    "print('MIXTURE OF GAUSSIANS CLUSTERING ANALYSIS:')\n",
    "print(\"-\"*45)\n",
    "\n",
    "Correct = (data['Species'] == result['TransLabel']).sum()\n",
    "Accuracy = round(Correct/df.shape[0],3)\n",
    "print('Accuracy ', Accuracy)\n",
    "print('Silhouette: ', round(metrics.silhouette_score(norm, result['TransLabel'],metric='sqeuclidean'),3))\n",
    "print('Homogeneity Score: ', round(metrics.homogeneity_score(data['Species'], result['TransLabel']),3))\n",
    "print('Completeness Score: ', round(metrics.completeness_score(data['Species'], result['TransLabel']),3))\n",
    "print('V-Measure Score: ', round(metrics.v_measure_score(data['Species'], result['TransLabel']),3))\n",
    "print('Adjusted Rand Score: ', round(metrics.adjusted_rand_score(data['Species'], result['TransLabel']),3))\n",
    "print('Adjusted Mutual Info Score: ', round(metrics.adjusted_mutual_info_score(data['Species'], result['TransLabel']),3))"
   ]
  },
  {
   "cell_type": "markdown",
   "id": "a49c9242",
   "metadata": {},
   "source": [
    "**Mixture of Gaussians Clustering gives an accuray of 96.7%.**"
   ]
  },
  {
   "cell_type": "markdown",
   "id": "5ccabfce",
   "metadata": {},
   "source": [
    "### Thus, from the above analysis, we can conclude that out of three Clustering algorithms compared, **Mixture of Gaussian Clustering Algorithm gives the best accuracy, i.e, 96.7%.**"
   ]
  }
 ],
 "metadata": {
  "kernelspec": {
   "display_name": "Python 3",
   "language": "python",
   "name": "python3"
  },
  "language_info": {
   "codemirror_mode": {
    "name": "ipython",
    "version": 3
   },
   "file_extension": ".py",
   "mimetype": "text/x-python",
   "name": "python",
   "nbconvert_exporter": "python",
   "pygments_lexer": "ipython3",
   "version": "3.8.8"
  }
 },
 "nbformat": 4,
 "nbformat_minor": 5
}
