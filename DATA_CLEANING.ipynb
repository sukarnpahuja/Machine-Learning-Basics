{
 "cells": [
  {
   "cell_type": "markdown",
   "id": "c0a53180",
   "metadata": {},
   "source": [
    "# ML LAB - TASK-1\n",
    "### TOPIC - DATA CLEANING\n",
    "- Data Cleaning is a process of cleaning data, preparing and preprocessing the dataset before it goes through the Machine Learning algorithm. A well prepared and clean dataset will give better accuracy than inconsistent data. It includes the following processes:\n",
    "1. Handling Missing Values.\n",
    "2. Handling Categorial Data.\n",
    "3. Dealing with inconsistent Data Entry.\n",
    "4. Handling Dates and Times\n",
    "5. Scaling and Normalisation\n",
    "- The dataset is extracted from kaggle and the link for the same is (https://www.kaggle.com/shrutibhargava94/india-air-quality-data)"
   ]
  },
  {
   "cell_type": "code",
   "execution_count": 1,
   "id": "d26d1f42",
   "metadata": {},
   "outputs": [],
   "source": [
    "#importing libraries\n",
    "import numpy as np            \n",
    "import pandas as pd"
   ]
  },
  {
   "cell_type": "code",
   "execution_count": 2,
   "id": "ade7d920",
   "metadata": {},
   "outputs": [
    {
     "data": {
      "text/html": [
       "<div>\n",
       "<style scoped>\n",
       "    .dataframe tbody tr th:only-of-type {\n",
       "        vertical-align: middle;\n",
       "    }\n",
       "\n",
       "    .dataframe tbody tr th {\n",
       "        vertical-align: top;\n",
       "    }\n",
       "\n",
       "    .dataframe thead th {\n",
       "        text-align: right;\n",
       "    }\n",
       "</style>\n",
       "<table border=\"1\" class=\"dataframe\">\n",
       "  <thead>\n",
       "    <tr style=\"text-align: right;\">\n",
       "      <th></th>\n",
       "      <th>stn_code</th>\n",
       "      <th>sampling_date</th>\n",
       "      <th>state</th>\n",
       "      <th>location</th>\n",
       "      <th>agency</th>\n",
       "      <th>type</th>\n",
       "      <th>so2</th>\n",
       "      <th>no2</th>\n",
       "      <th>rspm</th>\n",
       "      <th>spm</th>\n",
       "      <th>location_monitoring_station</th>\n",
       "      <th>pm2_5</th>\n",
       "      <th>date</th>\n",
       "    </tr>\n",
       "  </thead>\n",
       "  <tbody>\n",
       "    <tr>\n",
       "      <th>0</th>\n",
       "      <td>150</td>\n",
       "      <td>February - M021990</td>\n",
       "      <td>Andhra Pradesh</td>\n",
       "      <td>Hyderabad</td>\n",
       "      <td>NaN</td>\n",
       "      <td>Residential, Rural and other Areas</td>\n",
       "      <td>4.8</td>\n",
       "      <td>17.4</td>\n",
       "      <td>NaN</td>\n",
       "      <td>NaN</td>\n",
       "      <td>NaN</td>\n",
       "      <td>NaN</td>\n",
       "      <td>1990-02-01</td>\n",
       "    </tr>\n",
       "    <tr>\n",
       "      <th>1</th>\n",
       "      <td>151</td>\n",
       "      <td>February - M021990</td>\n",
       "      <td>Andhra Pradesh</td>\n",
       "      <td>Hyderabad</td>\n",
       "      <td>NaN</td>\n",
       "      <td>Industrial Area</td>\n",
       "      <td>3.1</td>\n",
       "      <td>7.0</td>\n",
       "      <td>NaN</td>\n",
       "      <td>NaN</td>\n",
       "      <td>NaN</td>\n",
       "      <td>NaN</td>\n",
       "      <td>1990-02-01</td>\n",
       "    </tr>\n",
       "    <tr>\n",
       "      <th>2</th>\n",
       "      <td>152</td>\n",
       "      <td>February - M021990</td>\n",
       "      <td>Andhra Pradesh</td>\n",
       "      <td>Hyderabad</td>\n",
       "      <td>NaN</td>\n",
       "      <td>Residential, Rural and other Areas</td>\n",
       "      <td>6.2</td>\n",
       "      <td>28.5</td>\n",
       "      <td>NaN</td>\n",
       "      <td>NaN</td>\n",
       "      <td>NaN</td>\n",
       "      <td>NaN</td>\n",
       "      <td>1990-02-01</td>\n",
       "    </tr>\n",
       "    <tr>\n",
       "      <th>3</th>\n",
       "      <td>150</td>\n",
       "      <td>March - M031990</td>\n",
       "      <td>Andhra Pradesh</td>\n",
       "      <td>Hyderabad</td>\n",
       "      <td>NaN</td>\n",
       "      <td>Residential, Rural and other Areas</td>\n",
       "      <td>6.3</td>\n",
       "      <td>14.7</td>\n",
       "      <td>NaN</td>\n",
       "      <td>NaN</td>\n",
       "      <td>NaN</td>\n",
       "      <td>NaN</td>\n",
       "      <td>1990-03-01</td>\n",
       "    </tr>\n",
       "    <tr>\n",
       "      <th>4</th>\n",
       "      <td>151</td>\n",
       "      <td>March - M031990</td>\n",
       "      <td>Andhra Pradesh</td>\n",
       "      <td>Hyderabad</td>\n",
       "      <td>NaN</td>\n",
       "      <td>Industrial Area</td>\n",
       "      <td>4.7</td>\n",
       "      <td>7.5</td>\n",
       "      <td>NaN</td>\n",
       "      <td>NaN</td>\n",
       "      <td>NaN</td>\n",
       "      <td>NaN</td>\n",
       "      <td>1990-03-01</td>\n",
       "    </tr>\n",
       "  </tbody>\n",
       "</table>\n",
       "</div>"
      ],
      "text/plain": [
       "  stn_code       sampling_date           state   location agency  \\\n",
       "0      150  February - M021990  Andhra Pradesh  Hyderabad    NaN   \n",
       "1      151  February - M021990  Andhra Pradesh  Hyderabad    NaN   \n",
       "2      152  February - M021990  Andhra Pradesh  Hyderabad    NaN   \n",
       "3      150     March - M031990  Andhra Pradesh  Hyderabad    NaN   \n",
       "4      151     March - M031990  Andhra Pradesh  Hyderabad    NaN   \n",
       "\n",
       "                                 type  so2   no2  rspm  spm  \\\n",
       "0  Residential, Rural and other Areas  4.8  17.4   NaN  NaN   \n",
       "1                     Industrial Area  3.1   7.0   NaN  NaN   \n",
       "2  Residential, Rural and other Areas  6.2  28.5   NaN  NaN   \n",
       "3  Residential, Rural and other Areas  6.3  14.7   NaN  NaN   \n",
       "4                     Industrial Area  4.7   7.5   NaN  NaN   \n",
       "\n",
       "  location_monitoring_station  pm2_5        date  \n",
       "0                         NaN    NaN  1990-02-01  \n",
       "1                         NaN    NaN  1990-02-01  \n",
       "2                         NaN    NaN  1990-02-01  \n",
       "3                         NaN    NaN  1990-03-01  \n",
       "4                         NaN    NaN  1990-03-01  "
      ]
     },
     "execution_count": 2,
     "metadata": {},
     "output_type": "execute_result"
    }
   ],
   "source": [
    "#import dataset\n",
    "df = pd.read_csv('data.csv',low_memory=False)\n",
    "df.head()"
   ]
  },
  {
   "cell_type": "code",
   "execution_count": 3,
   "id": "7c813d9f",
   "metadata": {},
   "outputs": [
    {
     "name": "stdout",
     "output_type": "stream",
     "text": [
      "(435742, 13)\n",
      "The numer of rows in the dataset are : 435742\n"
     ]
    }
   ],
   "source": [
    "shape = df.shape\n",
    "print(shape)\n",
    "print(\"The numer of rows in the dataset are :\",shape[0])"
   ]
  },
  {
   "cell_type": "code",
   "execution_count": 4,
   "id": "50c64fe6",
   "metadata": {},
   "outputs": [
    {
     "name": "stdout",
     "output_type": "stream",
     "text": [
      "<class 'pandas.core.frame.DataFrame'>\n",
      "RangeIndex: 435742 entries, 0 to 435741\n",
      "Data columns (total 13 columns):\n",
      " #   Column                       Non-Null Count   Dtype  \n",
      "---  ------                       --------------   -----  \n",
      " 0   stn_code                     291665 non-null  object \n",
      " 1   sampling_date                435739 non-null  object \n",
      " 2   state                        435742 non-null  object \n",
      " 3   location                     435739 non-null  object \n",
      " 4   agency                       286261 non-null  object \n",
      " 5   type                         430349 non-null  object \n",
      " 6   so2                          401096 non-null  float64\n",
      " 7   no2                          419509 non-null  float64\n",
      " 8   rspm                         395520 non-null  float64\n",
      " 9   spm                          198355 non-null  float64\n",
      " 10  location_monitoring_station  408251 non-null  object \n",
      " 11  pm2_5                        9314 non-null    float64\n",
      " 12  date                         435735 non-null  object \n",
      "dtypes: float64(5), object(8)\n",
      "memory usage: 43.2+ MB\n"
     ]
    }
   ],
   "source": [
    "#dataset info\n",
    "df.info()"
   ]
  },
  {
   "cell_type": "code",
   "execution_count": 5,
   "id": "64c61b5b",
   "metadata": {},
   "outputs": [
    {
     "data": {
      "text/html": [
       "<div>\n",
       "<style scoped>\n",
       "    .dataframe tbody tr th:only-of-type {\n",
       "        vertical-align: middle;\n",
       "    }\n",
       "\n",
       "    .dataframe tbody tr th {\n",
       "        vertical-align: top;\n",
       "    }\n",
       "\n",
       "    .dataframe thead th {\n",
       "        text-align: right;\n",
       "    }\n",
       "</style>\n",
       "<table border=\"1\" class=\"dataframe\">\n",
       "  <thead>\n",
       "    <tr style=\"text-align: right;\">\n",
       "      <th></th>\n",
       "      <th>so2</th>\n",
       "      <th>no2</th>\n",
       "      <th>rspm</th>\n",
       "      <th>spm</th>\n",
       "      <th>pm2_5</th>\n",
       "    </tr>\n",
       "  </thead>\n",
       "  <tbody>\n",
       "    <tr>\n",
       "      <th>count</th>\n",
       "      <td>401096.000000</td>\n",
       "      <td>419509.000000</td>\n",
       "      <td>395520.000000</td>\n",
       "      <td>198355.000000</td>\n",
       "      <td>9314.000000</td>\n",
       "    </tr>\n",
       "    <tr>\n",
       "      <th>mean</th>\n",
       "      <td>10.829414</td>\n",
       "      <td>25.809623</td>\n",
       "      <td>108.832784</td>\n",
       "      <td>220.783480</td>\n",
       "      <td>40.791467</td>\n",
       "    </tr>\n",
       "    <tr>\n",
       "      <th>std</th>\n",
       "      <td>11.177187</td>\n",
       "      <td>18.503086</td>\n",
       "      <td>74.872430</td>\n",
       "      <td>151.395457</td>\n",
       "      <td>30.832525</td>\n",
       "    </tr>\n",
       "    <tr>\n",
       "      <th>min</th>\n",
       "      <td>0.000000</td>\n",
       "      <td>0.000000</td>\n",
       "      <td>0.000000</td>\n",
       "      <td>0.000000</td>\n",
       "      <td>3.000000</td>\n",
       "    </tr>\n",
       "    <tr>\n",
       "      <th>25%</th>\n",
       "      <td>5.000000</td>\n",
       "      <td>14.000000</td>\n",
       "      <td>56.000000</td>\n",
       "      <td>111.000000</td>\n",
       "      <td>24.000000</td>\n",
       "    </tr>\n",
       "    <tr>\n",
       "      <th>50%</th>\n",
       "      <td>8.000000</td>\n",
       "      <td>22.000000</td>\n",
       "      <td>90.000000</td>\n",
       "      <td>187.000000</td>\n",
       "      <td>32.000000</td>\n",
       "    </tr>\n",
       "    <tr>\n",
       "      <th>75%</th>\n",
       "      <td>13.700000</td>\n",
       "      <td>32.200000</td>\n",
       "      <td>142.000000</td>\n",
       "      <td>296.000000</td>\n",
       "      <td>46.000000</td>\n",
       "    </tr>\n",
       "    <tr>\n",
       "      <th>max</th>\n",
       "      <td>909.000000</td>\n",
       "      <td>876.000000</td>\n",
       "      <td>6307.033333</td>\n",
       "      <td>3380.000000</td>\n",
       "      <td>504.000000</td>\n",
       "    </tr>\n",
       "  </tbody>\n",
       "</table>\n",
       "</div>"
      ],
      "text/plain": [
       "                 so2            no2           rspm            spm        pm2_5\n",
       "count  401096.000000  419509.000000  395520.000000  198355.000000  9314.000000\n",
       "mean       10.829414      25.809623     108.832784     220.783480    40.791467\n",
       "std        11.177187      18.503086      74.872430     151.395457    30.832525\n",
       "min         0.000000       0.000000       0.000000       0.000000     3.000000\n",
       "25%         5.000000      14.000000      56.000000     111.000000    24.000000\n",
       "50%         8.000000      22.000000      90.000000     187.000000    32.000000\n",
       "75%        13.700000      32.200000     142.000000     296.000000    46.000000\n",
       "max       909.000000     876.000000    6307.033333    3380.000000   504.000000"
      ]
     },
     "execution_count": 5,
     "metadata": {},
     "output_type": "execute_result"
    }
   ],
   "source": [
    "#statistical description of the dataset\n",
    "df.describe()"
   ]
  },
  {
   "cell_type": "markdown",
   "id": "f9b60241",
   "metadata": {},
   "source": [
    "The dataset contains a lot of missing values."
   ]
  },
  {
   "cell_type": "markdown",
   "id": "22e2c193",
   "metadata": {},
   "source": [
    "### 1. Missing Values\n",
    "The values may be missing because:\n",
    "1. either they are not recorded or\n",
    "2. the value doesn't exist.\n",
    "If the value exists and is not recorded, then we need to fill the missing data either by guessing the value that would have been there (**Imputation**), by filling it with a random value or by applying statistical method."
   ]
  },
  {
   "cell_type": "code",
   "execution_count": 6,
   "id": "0c8c8d62",
   "metadata": {},
   "outputs": [
    {
     "data": {
      "text/plain": [
       "stn_code                       144077\n",
       "sampling_date                       3\n",
       "state                               0\n",
       "location                            3\n",
       "agency                         149481\n",
       "type                             5393\n",
       "so2                             34646\n",
       "no2                             16233\n",
       "rspm                            40222\n",
       "spm                            237387\n",
       "location_monitoring_station     27491\n",
       "pm2_5                          426428\n",
       "date                                7\n",
       "dtype: int64"
      ]
     },
     "execution_count": 6,
     "metadata": {},
     "output_type": "execute_result"
    }
   ],
   "source": [
    "#checking the null values in each coloumn\n",
    "miss = df.isna().sum()\n",
    "miss"
   ]
  },
  {
   "cell_type": "markdown",
   "id": "e9ac1a34",
   "metadata": {},
   "source": [
    "**STEPS TO HANDLE MISSING VALUES**\n",
    "- Look through the description of each column and figure out whether the data is not recorded or data for that field does'nt exist.\n",
    "- If data is not recorded apply any method to fill the value.\n",
    "- Drop the rest."
   ]
  },
  {
   "cell_type": "code",
   "execution_count": 7,
   "id": "2f3aad79",
   "metadata": {},
   "outputs": [
    {
     "data": {
      "text/html": [
       "<div>\n",
       "<style scoped>\n",
       "    .dataframe tbody tr th:only-of-type {\n",
       "        vertical-align: middle;\n",
       "    }\n",
       "\n",
       "    .dataframe tbody tr th {\n",
       "        vertical-align: top;\n",
       "    }\n",
       "\n",
       "    .dataframe thead th {\n",
       "        text-align: right;\n",
       "    }\n",
       "</style>\n",
       "<table border=\"1\" class=\"dataframe\">\n",
       "  <thead>\n",
       "    <tr style=\"text-align: right;\">\n",
       "      <th></th>\n",
       "      <th>stn_code</th>\n",
       "      <th>sampling_date</th>\n",
       "      <th>state</th>\n",
       "      <th>location</th>\n",
       "      <th>agency</th>\n",
       "      <th>type</th>\n",
       "      <th>so2</th>\n",
       "      <th>no2</th>\n",
       "      <th>rspm</th>\n",
       "      <th>spm</th>\n",
       "      <th>location_monitoring_station</th>\n",
       "      <th>pm2_5</th>\n",
       "      <th>date</th>\n",
       "    </tr>\n",
       "  </thead>\n",
       "  <tbody>\n",
       "    <tr>\n",
       "      <th>0</th>\n",
       "      <td>150</td>\n",
       "      <td>February - M021990</td>\n",
       "      <td>Andhra Pradesh</td>\n",
       "      <td>Hyderabad</td>\n",
       "      <td>NaN</td>\n",
       "      <td>Residential, Rural and other Areas</td>\n",
       "      <td>4.8</td>\n",
       "      <td>17.4</td>\n",
       "      <td>NaN</td>\n",
       "      <td>NaN</td>\n",
       "      <td>NaN</td>\n",
       "      <td>NaN</td>\n",
       "      <td>1990-02-01</td>\n",
       "    </tr>\n",
       "    <tr>\n",
       "      <th>1</th>\n",
       "      <td>151</td>\n",
       "      <td>February - M021990</td>\n",
       "      <td>Andhra Pradesh</td>\n",
       "      <td>Hyderabad</td>\n",
       "      <td>NaN</td>\n",
       "      <td>Industrial Area</td>\n",
       "      <td>3.1</td>\n",
       "      <td>7.0</td>\n",
       "      <td>NaN</td>\n",
       "      <td>NaN</td>\n",
       "      <td>NaN</td>\n",
       "      <td>NaN</td>\n",
       "      <td>1990-02-01</td>\n",
       "    </tr>\n",
       "    <tr>\n",
       "      <th>2</th>\n",
       "      <td>152</td>\n",
       "      <td>February - M021990</td>\n",
       "      <td>Andhra Pradesh</td>\n",
       "      <td>Hyderabad</td>\n",
       "      <td>NaN</td>\n",
       "      <td>Residential, Rural and other Areas</td>\n",
       "      <td>6.2</td>\n",
       "      <td>28.5</td>\n",
       "      <td>NaN</td>\n",
       "      <td>NaN</td>\n",
       "      <td>NaN</td>\n",
       "      <td>NaN</td>\n",
       "      <td>1990-02-01</td>\n",
       "    </tr>\n",
       "    <tr>\n",
       "      <th>3</th>\n",
       "      <td>150</td>\n",
       "      <td>March - M031990</td>\n",
       "      <td>Andhra Pradesh</td>\n",
       "      <td>Hyderabad</td>\n",
       "      <td>NaN</td>\n",
       "      <td>Residential, Rural and other Areas</td>\n",
       "      <td>6.3</td>\n",
       "      <td>14.7</td>\n",
       "      <td>NaN</td>\n",
       "      <td>NaN</td>\n",
       "      <td>NaN</td>\n",
       "      <td>NaN</td>\n",
       "      <td>1990-03-01</td>\n",
       "    </tr>\n",
       "    <tr>\n",
       "      <th>4</th>\n",
       "      <td>151</td>\n",
       "      <td>March - M031990</td>\n",
       "      <td>Andhra Pradesh</td>\n",
       "      <td>Hyderabad</td>\n",
       "      <td>NaN</td>\n",
       "      <td>Industrial Area</td>\n",
       "      <td>4.7</td>\n",
       "      <td>7.5</td>\n",
       "      <td>NaN</td>\n",
       "      <td>NaN</td>\n",
       "      <td>NaN</td>\n",
       "      <td>NaN</td>\n",
       "      <td>1990-03-01</td>\n",
       "    </tr>\n",
       "  </tbody>\n",
       "</table>\n",
       "</div>"
      ],
      "text/plain": [
       "  stn_code       sampling_date           state   location agency  \\\n",
       "0      150  February - M021990  Andhra Pradesh  Hyderabad    NaN   \n",
       "1      151  February - M021990  Andhra Pradesh  Hyderabad    NaN   \n",
       "2      152  February - M021990  Andhra Pradesh  Hyderabad    NaN   \n",
       "3      150     March - M031990  Andhra Pradesh  Hyderabad    NaN   \n",
       "4      151     March - M031990  Andhra Pradesh  Hyderabad    NaN   \n",
       "\n",
       "                                 type  so2   no2  rspm  spm  \\\n",
       "0  Residential, Rural and other Areas  4.8  17.4   NaN  NaN   \n",
       "1                     Industrial Area  3.1   7.0   NaN  NaN   \n",
       "2  Residential, Rural and other Areas  6.2  28.5   NaN  NaN   \n",
       "3  Residential, Rural and other Areas  6.3  14.7   NaN  NaN   \n",
       "4                     Industrial Area  4.7   7.5   NaN  NaN   \n",
       "\n",
       "  location_monitoring_station  pm2_5        date  \n",
       "0                         NaN    NaN  1990-02-01  \n",
       "1                         NaN    NaN  1990-02-01  \n",
       "2                         NaN    NaN  1990-02-01  \n",
       "3                         NaN    NaN  1990-03-01  \n",
       "4                         NaN    NaN  1990-03-01  "
      ]
     },
     "execution_count": 7,
     "metadata": {},
     "output_type": "execute_result"
    }
   ],
   "source": [
    "df.head()"
   ]
  },
  {
   "cell_type": "code",
   "execution_count": 8,
   "id": "0d6bd4a5",
   "metadata": {},
   "outputs": [
    {
     "name": "stdout",
     "output_type": "stream",
     "text": [
      "19.089824854015593\n"
     ]
    }
   ],
   "source": [
    "#missing values percentage\n",
    "total_cells = shape[0]*shape[1]\n",
    "missing_values = miss.sum()\n",
    "missing_percentage = (missing_values/total_cells)*100\n",
    "print(missing_percentage)"
   ]
  },
  {
   "cell_type": "markdown",
   "id": "1be564c1",
   "metadata": {},
   "source": [
    "19% of the values in the dataset are missing or NaN"
   ]
  },
  {
   "cell_type": "code",
   "execution_count": 9,
   "id": "83b5df5f",
   "metadata": {},
   "outputs": [],
   "source": [
    "#dropping location mnitoring station\n",
    "df.drop(columns='location_monitoring_station',axis=1,inplace=True)"
   ]
  },
  {
   "cell_type": "code",
   "execution_count": 10,
   "id": "2666a645",
   "metadata": {},
   "outputs": [],
   "source": [
    "#filling the values for so2,no2,rspm,spm,pm2-5 as 0 as there doesnt exist any of these chemical.\n",
    "values = {'so2':0,'no2':0,'pm2_5':0,'rspm':0,'spm':0}\n",
    "df.fillna(value=values,inplace=True)"
   ]
  },
  {
   "cell_type": "code",
   "execution_count": 11,
   "id": "0c20a3b5",
   "metadata": {},
   "outputs": [],
   "source": [
    "#filling values for stn_code,sampling_date,location,type\n",
    "df.fillna(method='ffill',axis=0,inplace=True)"
   ]
  },
  {
   "cell_type": "code",
   "execution_count": 12,
   "id": "0fb0ab27",
   "metadata": {},
   "outputs": [],
   "source": [
    "#filling agency\n",
    "#assuming all the missing agency data is by central agency\n",
    "df['agency'].fillna(\"Central Agency\",inplace=True)"
   ]
  },
  {
   "cell_type": "code",
   "execution_count": 13,
   "id": "d4306a03",
   "metadata": {},
   "outputs": [
    {
     "data": {
      "text/plain": [
       "stn_code         0\n",
       "sampling_date    0\n",
       "state            0\n",
       "location         0\n",
       "agency           0\n",
       "type             0\n",
       "so2              0\n",
       "no2              0\n",
       "rspm             0\n",
       "spm              0\n",
       "pm2_5            0\n",
       "date             0\n",
       "dtype: int64"
      ]
     },
     "execution_count": 13,
     "metadata": {},
     "output_type": "execute_result"
    }
   ],
   "source": [
    "#data cleaned\n",
    "df.isna().sum()"
   ]
  },
  {
   "cell_type": "code",
   "execution_count": 14,
   "id": "bf039121",
   "metadata": {},
   "outputs": [
    {
     "name": "stdout",
     "output_type": "stream",
     "text": [
      "Data Cleaned with all the missing values\n"
     ]
    }
   ],
   "source": [
    "print(\"Data Cleaned with all the missing values\")"
   ]
  },
  {
   "cell_type": "markdown",
   "id": "4d52270f",
   "metadata": {},
   "source": [
    "### 2. Handling Categorial Data\n",
    "- Categorial Data includes columns such as agency,state,location,etc.\n",
    "- These include data that does not have numerical values or date-time values but categories.\n",
    "- Examples include - Yes/No , True/False, Male/Female, etc."
   ]
  },
  {
   "cell_type": "code",
   "execution_count": 15,
   "id": "d30b914a",
   "metadata": {},
   "outputs": [
    {
     "data": {
      "text/html": [
       "<div>\n",
       "<style scoped>\n",
       "    .dataframe tbody tr th:only-of-type {\n",
       "        vertical-align: middle;\n",
       "    }\n",
       "\n",
       "    .dataframe tbody tr th {\n",
       "        vertical-align: top;\n",
       "    }\n",
       "\n",
       "    .dataframe thead th {\n",
       "        text-align: right;\n",
       "    }\n",
       "</style>\n",
       "<table border=\"1\" class=\"dataframe\">\n",
       "  <thead>\n",
       "    <tr style=\"text-align: right;\">\n",
       "      <th></th>\n",
       "      <th>stn_code</th>\n",
       "      <th>sampling_date</th>\n",
       "      <th>state</th>\n",
       "      <th>location</th>\n",
       "      <th>agency</th>\n",
       "      <th>type</th>\n",
       "      <th>so2</th>\n",
       "      <th>no2</th>\n",
       "      <th>rspm</th>\n",
       "      <th>spm</th>\n",
       "      <th>pm2_5</th>\n",
       "      <th>date</th>\n",
       "    </tr>\n",
       "  </thead>\n",
       "  <tbody>\n",
       "    <tr>\n",
       "      <th>0</th>\n",
       "      <td>150</td>\n",
       "      <td>February - M021990</td>\n",
       "      <td>Andhra Pradesh</td>\n",
       "      <td>Hyderabad</td>\n",
       "      <td>Central Agency</td>\n",
       "      <td>Residential, Rural and other Areas</td>\n",
       "      <td>4.8</td>\n",
       "      <td>17.4</td>\n",
       "      <td>0.0</td>\n",
       "      <td>0.0</td>\n",
       "      <td>0.0</td>\n",
       "      <td>1990-02-01</td>\n",
       "    </tr>\n",
       "    <tr>\n",
       "      <th>1</th>\n",
       "      <td>151</td>\n",
       "      <td>February - M021990</td>\n",
       "      <td>Andhra Pradesh</td>\n",
       "      <td>Hyderabad</td>\n",
       "      <td>Central Agency</td>\n",
       "      <td>Industrial Area</td>\n",
       "      <td>3.1</td>\n",
       "      <td>7.0</td>\n",
       "      <td>0.0</td>\n",
       "      <td>0.0</td>\n",
       "      <td>0.0</td>\n",
       "      <td>1990-02-01</td>\n",
       "    </tr>\n",
       "    <tr>\n",
       "      <th>2</th>\n",
       "      <td>152</td>\n",
       "      <td>February - M021990</td>\n",
       "      <td>Andhra Pradesh</td>\n",
       "      <td>Hyderabad</td>\n",
       "      <td>Central Agency</td>\n",
       "      <td>Residential, Rural and other Areas</td>\n",
       "      <td>6.2</td>\n",
       "      <td>28.5</td>\n",
       "      <td>0.0</td>\n",
       "      <td>0.0</td>\n",
       "      <td>0.0</td>\n",
       "      <td>1990-02-01</td>\n",
       "    </tr>\n",
       "    <tr>\n",
       "      <th>3</th>\n",
       "      <td>150</td>\n",
       "      <td>March - M031990</td>\n",
       "      <td>Andhra Pradesh</td>\n",
       "      <td>Hyderabad</td>\n",
       "      <td>Central Agency</td>\n",
       "      <td>Residential, Rural and other Areas</td>\n",
       "      <td>6.3</td>\n",
       "      <td>14.7</td>\n",
       "      <td>0.0</td>\n",
       "      <td>0.0</td>\n",
       "      <td>0.0</td>\n",
       "      <td>1990-03-01</td>\n",
       "    </tr>\n",
       "    <tr>\n",
       "      <th>4</th>\n",
       "      <td>151</td>\n",
       "      <td>March - M031990</td>\n",
       "      <td>Andhra Pradesh</td>\n",
       "      <td>Hyderabad</td>\n",
       "      <td>Central Agency</td>\n",
       "      <td>Industrial Area</td>\n",
       "      <td>4.7</td>\n",
       "      <td>7.5</td>\n",
       "      <td>0.0</td>\n",
       "      <td>0.0</td>\n",
       "      <td>0.0</td>\n",
       "      <td>1990-03-01</td>\n",
       "    </tr>\n",
       "  </tbody>\n",
       "</table>\n",
       "</div>"
      ],
      "text/plain": [
       "  stn_code       sampling_date           state   location          agency  \\\n",
       "0      150  February - M021990  Andhra Pradesh  Hyderabad  Central Agency   \n",
       "1      151  February - M021990  Andhra Pradesh  Hyderabad  Central Agency   \n",
       "2      152  February - M021990  Andhra Pradesh  Hyderabad  Central Agency   \n",
       "3      150     March - M031990  Andhra Pradesh  Hyderabad  Central Agency   \n",
       "4      151     March - M031990  Andhra Pradesh  Hyderabad  Central Agency   \n",
       "\n",
       "                                 type  so2   no2  rspm  spm  pm2_5        date  \n",
       "0  Residential, Rural and other Areas  4.8  17.4   0.0  0.0    0.0  1990-02-01  \n",
       "1                     Industrial Area  3.1   7.0   0.0  0.0    0.0  1990-02-01  \n",
       "2  Residential, Rural and other Areas  6.2  28.5   0.0  0.0    0.0  1990-02-01  \n",
       "3  Residential, Rural and other Areas  6.3  14.7   0.0  0.0    0.0  1990-03-01  \n",
       "4                     Industrial Area  4.7   7.5   0.0  0.0    0.0  1990-03-01  "
      ]
     },
     "execution_count": 15,
     "metadata": {},
     "output_type": "execute_result"
    }
   ],
   "source": [
    "df.head()"
   ]
  },
  {
   "cell_type": "markdown",
   "id": "57154446",
   "metadata": {},
   "source": [
    "In the dataset, there is no missing categorial data or inconsistent data category.\n",
    "- Inconsistent data entry includes (1 - Male, 0- Female) : numbers denoting the categories.\n",
    "However, the **dtype** of the categorial data must be **category**"
   ]
  },
  {
   "cell_type": "code",
   "execution_count": 16,
   "id": "a1d1dd40",
   "metadata": {},
   "outputs": [
    {
     "data": {
      "text/plain": [
       "stn_code          object\n",
       "sampling_date     object\n",
       "state             object\n",
       "location          object\n",
       "agency            object\n",
       "type              object\n",
       "so2              float64\n",
       "no2              float64\n",
       "rspm             float64\n",
       "spm              float64\n",
       "pm2_5            float64\n",
       "date              object\n",
       "dtype: object"
      ]
     },
     "execution_count": 16,
     "metadata": {},
     "output_type": "execute_result"
    }
   ],
   "source": [
    "df.dtypes"
   ]
  },
  {
   "cell_type": "code",
   "execution_count": 17,
   "id": "11072641",
   "metadata": {},
   "outputs": [],
   "source": [
    "#chanfging the dtype of categorial data\n",
    "df = df.astype({'state':'category','location':'category','agency':'category','type':'category'})"
   ]
  },
  {
   "cell_type": "code",
   "execution_count": 18,
   "id": "908917aa",
   "metadata": {},
   "outputs": [
    {
     "data": {
      "text/plain": [
       "stn_code           object\n",
       "sampling_date      object\n",
       "state            category\n",
       "location         category\n",
       "agency           category\n",
       "type             category\n",
       "so2               float64\n",
       "no2               float64\n",
       "rspm              float64\n",
       "spm               float64\n",
       "pm2_5             float64\n",
       "date               object\n",
       "dtype: object"
      ]
     },
     "execution_count": 18,
     "metadata": {},
     "output_type": "execute_result"
    }
   ],
   "source": [
    "df.dtypes"
   ]
  },
  {
   "cell_type": "markdown",
   "id": "a501bb21",
   "metadata": {},
   "source": [
    "dtype changes to **category**."
   ]
  },
  {
   "cell_type": "markdown",
   "id": "a9ba494b",
   "metadata": {},
   "source": [
    "### 3. Dealing with Inconsistent Data Entry.\n",
    "- Deals with the inconsistency in data like duplicates, lowercase and uppercase, etc.\n",
    "- In the given dataset, considering **state**, **location**,**types** and **agency** for data inconsistency."
   ]
  },
  {
   "cell_type": "code",
   "execution_count": 19,
   "id": "1923cd36",
   "metadata": {
    "scrolled": true
   },
   "outputs": [
    {
     "data": {
      "text/plain": [
       "['Andhra Pradesh', 'Arunachal Pradesh', 'Assam', 'Bihar', 'Chandigarh', ..., 'Uttaranchal', 'West Bengal', 'andaman-and-nicobar-islands', 'Lakshadweep', 'Tripura']\n",
       "Length: 37\n",
       "Categories (37, object): ['Andhra Pradesh', 'Arunachal Pradesh', 'Assam', 'Bihar', ..., 'West Bengal', 'andaman-and-nicobar-islands', 'Lakshadweep', 'Tripura']"
      ]
     },
     "execution_count": 19,
     "metadata": {},
     "output_type": "execute_result"
    }
   ],
   "source": [
    "df['state'].unique()"
   ]
  },
  {
   "cell_type": "code",
   "execution_count": 20,
   "id": "81b66c7b",
   "metadata": {},
   "outputs": [
    {
     "data": {
      "text/plain": [
       "['Hyderabad', 'Vishakhapatnam', 'Visakhapatnam', 'Tirupati', 'Vijayawada', ..., 'HALDIA', 'Kalyani', 'MALDAH', 'SILIGURI', 'ULUBERIA']\n",
       "Length: 304\n",
       "Categories (304, object): ['Hyderabad', 'Vishakhapatnam', 'Visakhapatnam', 'Tirupati', ..., 'Kalyani', 'MALDAH', 'SILIGURI', 'ULUBERIA']"
      ]
     },
     "execution_count": 20,
     "metadata": {},
     "output_type": "execute_result"
    }
   ],
   "source": [
    "df['location'].unique()"
   ]
  },
  {
   "cell_type": "code",
   "execution_count": 21,
   "id": "0a0efca3",
   "metadata": {},
   "outputs": [
    {
     "data": {
      "text/plain": [
       "['Central Agency', 'Andhra Pradesh  Pollution Control Board', 'Andhra Pradesh State Pollution Control Board', 'National Environmental Engineering Research I..., 'Arunachal Pradesh State Pollution Control Board', ..., 'UPPB', 'Uttarakhand Environment Protection and Pollut..., 'CMEC', 'West Bengal Pollution Control Board', 'West Bengal State Pollution Control Board']\n",
       "Length: 65\n",
       "Categories (65, object): ['Central Agency', 'Andhra Pradesh  Pollution Control Board', 'Andhra Pradesh State Pollution Control Board', 'National Environmental Engineering Research I..., ..., 'Uttarakhand Environment Protection and Pollut..., 'CMEC', 'West Bengal Pollution Control Board', 'West Bengal State Pollution Control Board']"
      ]
     },
     "execution_count": 21,
     "metadata": {},
     "output_type": "execute_result"
    }
   ],
   "source": [
    "df['agency'].unique()"
   ]
  },
  {
   "cell_type": "code",
   "execution_count": 22,
   "id": "32f5a963",
   "metadata": {},
   "outputs": [
    {
     "data": {
      "text/plain": [
       "['Residential, Rural and other Areas', 'Industrial Area', 'Sensitive Area', 'Industrial Areas', 'Residential and others', 'Sensitive Areas', 'Industrial', 'Residential', 'RIRUO', 'Sensitive']\n",
       "Categories (10, object): ['Residential, Rural and other Areas', 'Industrial Area', 'Sensitive Area', 'Industrial Areas', ..., 'Industrial', 'Residential', 'RIRUO', 'Sensitive']"
      ]
     },
     "execution_count": 22,
     "metadata": {},
     "output_type": "execute_result"
    }
   ],
   "source": [
    "df['type'].unique()"
   ]
  },
  {
   "cell_type": "markdown",
   "id": "fed6d591",
   "metadata": {},
   "source": [
    "There is no discrepency or duplicates in the data. Thus, the data is consistent, no change needs to be done."
   ]
  },
  {
   "cell_type": "markdown",
   "id": "8f7893a4",
   "metadata": {},
   "source": [
    "### 4. Handling Date and Time\n",
    "- refers to the changes, extraction and modification done on date and time columns.\n",
    "- The date time columns should be in datettime dtype format."
   ]
  },
  {
   "cell_type": "code",
   "execution_count": 23,
   "id": "133872a1",
   "metadata": {},
   "outputs": [
    {
     "data": {
      "text/plain": [
       "stn_code           object\n",
       "sampling_date      object\n",
       "state            category\n",
       "location         category\n",
       "agency           category\n",
       "type             category\n",
       "so2               float64\n",
       "no2               float64\n",
       "rspm              float64\n",
       "spm               float64\n",
       "pm2_5             float64\n",
       "date               object\n",
       "dtype: object"
      ]
     },
     "execution_count": 23,
     "metadata": {},
     "output_type": "execute_result"
    }
   ],
   "source": [
    "df.dtypes"
   ]
  },
  {
   "cell_type": "code",
   "execution_count": 24,
   "id": "bca6753e",
   "metadata": {},
   "outputs": [],
   "source": [
    "#method-1 by using astype function to convert in the same format as it is written in.\n",
    "df = df.astype({'date':'datetime64'})"
   ]
  },
  {
   "cell_type": "code",
   "execution_count": 25,
   "id": "5d2935e7",
   "metadata": {},
   "outputs": [],
   "source": [
    "#method-2 - creating a new col of datetime with the customised date-time format a per requirement\n",
    "#converting in the format - DAY-MONTH-YEAR\n",
    "df['parsed_date'] = pd.to_datetime(df['date'],format = '%Y-%m-%d')"
   ]
  },
  {
   "cell_type": "code",
   "execution_count": 26,
   "id": "e960c09f",
   "metadata": {},
   "outputs": [
    {
     "data": {
      "text/plain": [
       "stn_code                 object\n",
       "sampling_date            object\n",
       "state                  category\n",
       "location               category\n",
       "agency                 category\n",
       "type                   category\n",
       "so2                     float64\n",
       "no2                     float64\n",
       "rspm                    float64\n",
       "spm                     float64\n",
       "pm2_5                   float64\n",
       "date             datetime64[ns]\n",
       "parsed_date      datetime64[ns]\n",
       "dtype: object"
      ]
     },
     "execution_count": 26,
     "metadata": {},
     "output_type": "execute_result"
    }
   ],
   "source": [
    "df.dtypes"
   ]
  },
  {
   "cell_type": "code",
   "execution_count": 27,
   "id": "888644d0",
   "metadata": {},
   "outputs": [
    {
     "data": {
      "text/html": [
       "<div>\n",
       "<style scoped>\n",
       "    .dataframe tbody tr th:only-of-type {\n",
       "        vertical-align: middle;\n",
       "    }\n",
       "\n",
       "    .dataframe tbody tr th {\n",
       "        vertical-align: top;\n",
       "    }\n",
       "\n",
       "    .dataframe thead th {\n",
       "        text-align: right;\n",
       "    }\n",
       "</style>\n",
       "<table border=\"1\" class=\"dataframe\">\n",
       "  <thead>\n",
       "    <tr style=\"text-align: right;\">\n",
       "      <th></th>\n",
       "      <th>stn_code</th>\n",
       "      <th>sampling_date</th>\n",
       "      <th>state</th>\n",
       "      <th>location</th>\n",
       "      <th>agency</th>\n",
       "      <th>type</th>\n",
       "      <th>so2</th>\n",
       "      <th>no2</th>\n",
       "      <th>rspm</th>\n",
       "      <th>spm</th>\n",
       "      <th>pm2_5</th>\n",
       "      <th>date</th>\n",
       "      <th>parsed_date</th>\n",
       "    </tr>\n",
       "  </thead>\n",
       "  <tbody>\n",
       "    <tr>\n",
       "      <th>0</th>\n",
       "      <td>150</td>\n",
       "      <td>February - M021990</td>\n",
       "      <td>Andhra Pradesh</td>\n",
       "      <td>Hyderabad</td>\n",
       "      <td>Central Agency</td>\n",
       "      <td>Residential, Rural and other Areas</td>\n",
       "      <td>4.8</td>\n",
       "      <td>17.4</td>\n",
       "      <td>0.0</td>\n",
       "      <td>0.0</td>\n",
       "      <td>0.0</td>\n",
       "      <td>1990-02-01</td>\n",
       "      <td>1990-02-01</td>\n",
       "    </tr>\n",
       "    <tr>\n",
       "      <th>1</th>\n",
       "      <td>151</td>\n",
       "      <td>February - M021990</td>\n",
       "      <td>Andhra Pradesh</td>\n",
       "      <td>Hyderabad</td>\n",
       "      <td>Central Agency</td>\n",
       "      <td>Industrial Area</td>\n",
       "      <td>3.1</td>\n",
       "      <td>7.0</td>\n",
       "      <td>0.0</td>\n",
       "      <td>0.0</td>\n",
       "      <td>0.0</td>\n",
       "      <td>1990-02-01</td>\n",
       "      <td>1990-02-01</td>\n",
       "    </tr>\n",
       "    <tr>\n",
       "      <th>2</th>\n",
       "      <td>152</td>\n",
       "      <td>February - M021990</td>\n",
       "      <td>Andhra Pradesh</td>\n",
       "      <td>Hyderabad</td>\n",
       "      <td>Central Agency</td>\n",
       "      <td>Residential, Rural and other Areas</td>\n",
       "      <td>6.2</td>\n",
       "      <td>28.5</td>\n",
       "      <td>0.0</td>\n",
       "      <td>0.0</td>\n",
       "      <td>0.0</td>\n",
       "      <td>1990-02-01</td>\n",
       "      <td>1990-02-01</td>\n",
       "    </tr>\n",
       "    <tr>\n",
       "      <th>3</th>\n",
       "      <td>150</td>\n",
       "      <td>March - M031990</td>\n",
       "      <td>Andhra Pradesh</td>\n",
       "      <td>Hyderabad</td>\n",
       "      <td>Central Agency</td>\n",
       "      <td>Residential, Rural and other Areas</td>\n",
       "      <td>6.3</td>\n",
       "      <td>14.7</td>\n",
       "      <td>0.0</td>\n",
       "      <td>0.0</td>\n",
       "      <td>0.0</td>\n",
       "      <td>1990-03-01</td>\n",
       "      <td>1990-03-01</td>\n",
       "    </tr>\n",
       "    <tr>\n",
       "      <th>4</th>\n",
       "      <td>151</td>\n",
       "      <td>March - M031990</td>\n",
       "      <td>Andhra Pradesh</td>\n",
       "      <td>Hyderabad</td>\n",
       "      <td>Central Agency</td>\n",
       "      <td>Industrial Area</td>\n",
       "      <td>4.7</td>\n",
       "      <td>7.5</td>\n",
       "      <td>0.0</td>\n",
       "      <td>0.0</td>\n",
       "      <td>0.0</td>\n",
       "      <td>1990-03-01</td>\n",
       "      <td>1990-03-01</td>\n",
       "    </tr>\n",
       "  </tbody>\n",
       "</table>\n",
       "</div>"
      ],
      "text/plain": [
       "  stn_code       sampling_date           state   location          agency  \\\n",
       "0      150  February - M021990  Andhra Pradesh  Hyderabad  Central Agency   \n",
       "1      151  February - M021990  Andhra Pradesh  Hyderabad  Central Agency   \n",
       "2      152  February - M021990  Andhra Pradesh  Hyderabad  Central Agency   \n",
       "3      150     March - M031990  Andhra Pradesh  Hyderabad  Central Agency   \n",
       "4      151     March - M031990  Andhra Pradesh  Hyderabad  Central Agency   \n",
       "\n",
       "                                 type  so2   no2  rspm  spm  pm2_5       date  \\\n",
       "0  Residential, Rural and other Areas  4.8  17.4   0.0  0.0    0.0 1990-02-01   \n",
       "1                     Industrial Area  3.1   7.0   0.0  0.0    0.0 1990-02-01   \n",
       "2  Residential, Rural and other Areas  6.2  28.5   0.0  0.0    0.0 1990-02-01   \n",
       "3  Residential, Rural and other Areas  6.3  14.7   0.0  0.0    0.0 1990-03-01   \n",
       "4                     Industrial Area  4.7   7.5   0.0  0.0    0.0 1990-03-01   \n",
       "\n",
       "  parsed_date  \n",
       "0  1990-02-01  \n",
       "1  1990-02-01  \n",
       "2  1990-02-01  \n",
       "3  1990-03-01  \n",
       "4  1990-03-01  "
      ]
     },
     "execution_count": 27,
     "metadata": {},
     "output_type": "execute_result"
    }
   ],
   "source": [
    "df.head()"
   ]
  },
  {
   "cell_type": "markdown",
   "id": "a3509f57",
   "metadata": {},
   "source": [
    "It is prefferred to use the second method **pd.to_datetime** as it can convert any format into the YYYY-MM-DD format and is fast."
   ]
  },
  {
   "cell_type": "code",
   "execution_count": 28,
   "id": "d22bc19d",
   "metadata": {},
   "outputs": [],
   "source": [
    "#extracting day of the month\n",
    "day_of_month = df['parsed_date'].dt.day"
   ]
  },
  {
   "cell_type": "code",
   "execution_count": 29,
   "id": "c33da142",
   "metadata": {},
   "outputs": [],
   "source": [
    "#checking the distribution\n",
    "import seaborn as sns"
   ]
  },
  {
   "cell_type": "code",
   "execution_count": 30,
   "id": "2df00898",
   "metadata": {},
   "outputs": [
    {
     "name": "stderr",
     "output_type": "stream",
     "text": [
      "C:\\Users\\91999\\anaconda3\\lib\\site-packages\\seaborn\\distributions.py:2557: FutureWarning: `distplot` is a deprecated function and will be removed in a future version. Please adapt your code to use either `displot` (a figure-level function with similar flexibility) or `histplot` (an axes-level function for histograms).\n",
      "  warnings.warn(msg, FutureWarning)\n"
     ]
    },
    {
     "data": {
      "text/plain": [
       "<AxesSubplot:xlabel='parsed_date', ylabel='Density'>"
      ]
     },
     "execution_count": 30,
     "metadata": {},
     "output_type": "execute_result"
    },
    {
     "data": {
      "image/png": "[encoded data removed]",
      "text/plain": [
       "<Figure size 432x288 with 1 Axes>"
      ]
     },
     "metadata": {
      "needs_background": "light"
     },
     "output_type": "display_data"
    }
   ],
   "source": [
    "sns.distplot(day_of_month,color='red')"
   ]
  },
  {
   "cell_type": "markdown",
   "id": "8b7f59dc",
   "metadata": {},
   "source": [
    "The range of day of month is 1-30. Hence, the distrbution is correct."
   ]
  },
  {
   "cell_type": "markdown",
   "id": "20c48d79",
   "metadata": {},
   "source": [
    "### 5. Scaling and Normalisation\n",
    "- It refers to the changing of values of numerical variables like so2,no2,pm2_5,spm,etc. that contains numerical values.\n",
    "- **Scaling** Refers to changing the range (scale) of the data (eg any distribution from 0-255 scale is changed to 0-1 scale)\n",
    "- Scaling is often done when comparison of the coloumns is required. Eg- cuurency comparison.\n",
    "- **Normalisation** refers to conversion of the data distribution to normal distribution, i.e, equal count before and after the mean of the distribution . (mean==median)\n",
    "- Normalisation is often done when the ML algorithm requires data in normal distribution. (Gaussian Distribution)\n",
    "- Box-Cox Transformation is used for normalisation."
   ]
  },
  {
   "cell_type": "code",
   "execution_count": 31,
   "id": "aed0fe37",
   "metadata": {},
   "outputs": [
    {
     "data": {
      "text/html": [
       "<div>\n",
       "<style scoped>\n",
       "    .dataframe tbody tr th:only-of-type {\n",
       "        vertical-align: middle;\n",
       "    }\n",
       "\n",
       "    .dataframe tbody tr th {\n",
       "        vertical-align: top;\n",
       "    }\n",
       "\n",
       "    .dataframe thead th {\n",
       "        text-align: right;\n",
       "    }\n",
       "</style>\n",
       "<table border=\"1\" class=\"dataframe\">\n",
       "  <thead>\n",
       "    <tr style=\"text-align: right;\">\n",
       "      <th></th>\n",
       "      <th>stn_code</th>\n",
       "      <th>sampling_date</th>\n",
       "      <th>state</th>\n",
       "      <th>location</th>\n",
       "      <th>agency</th>\n",
       "      <th>type</th>\n",
       "      <th>so2</th>\n",
       "      <th>no2</th>\n",
       "      <th>rspm</th>\n",
       "      <th>spm</th>\n",
       "      <th>pm2_5</th>\n",
       "      <th>date</th>\n",
       "      <th>parsed_date</th>\n",
       "    </tr>\n",
       "  </thead>\n",
       "  <tbody>\n",
       "    <tr>\n",
       "      <th>0</th>\n",
       "      <td>150</td>\n",
       "      <td>February - M021990</td>\n",
       "      <td>Andhra Pradesh</td>\n",
       "      <td>Hyderabad</td>\n",
       "      <td>Central Agency</td>\n",
       "      <td>Residential, Rural and other Areas</td>\n",
       "      <td>4.8</td>\n",
       "      <td>17.4</td>\n",
       "      <td>0.0</td>\n",
       "      <td>0.0</td>\n",
       "      <td>0.0</td>\n",
       "      <td>1990-02-01</td>\n",
       "      <td>1990-02-01</td>\n",
       "    </tr>\n",
       "    <tr>\n",
       "      <th>1</th>\n",
       "      <td>151</td>\n",
       "      <td>February - M021990</td>\n",
       "      <td>Andhra Pradesh</td>\n",
       "      <td>Hyderabad</td>\n",
       "      <td>Central Agency</td>\n",
       "      <td>Industrial Area</td>\n",
       "      <td>3.1</td>\n",
       "      <td>7.0</td>\n",
       "      <td>0.0</td>\n",
       "      <td>0.0</td>\n",
       "      <td>0.0</td>\n",
       "      <td>1990-02-01</td>\n",
       "      <td>1990-02-01</td>\n",
       "    </tr>\n",
       "    <tr>\n",
       "      <th>2</th>\n",
       "      <td>152</td>\n",
       "      <td>February - M021990</td>\n",
       "      <td>Andhra Pradesh</td>\n",
       "      <td>Hyderabad</td>\n",
       "      <td>Central Agency</td>\n",
       "      <td>Residential, Rural and other Areas</td>\n",
       "      <td>6.2</td>\n",
       "      <td>28.5</td>\n",
       "      <td>0.0</td>\n",
       "      <td>0.0</td>\n",
       "      <td>0.0</td>\n",
       "      <td>1990-02-01</td>\n",
       "      <td>1990-02-01</td>\n",
       "    </tr>\n",
       "    <tr>\n",
       "      <th>3</th>\n",
       "      <td>150</td>\n",
       "      <td>March - M031990</td>\n",
       "      <td>Andhra Pradesh</td>\n",
       "      <td>Hyderabad</td>\n",
       "      <td>Central Agency</td>\n",
       "      <td>Residential, Rural and other Areas</td>\n",
       "      <td>6.3</td>\n",
       "      <td>14.7</td>\n",
       "      <td>0.0</td>\n",
       "      <td>0.0</td>\n",
       "      <td>0.0</td>\n",
       "      <td>1990-03-01</td>\n",
       "      <td>1990-03-01</td>\n",
       "    </tr>\n",
       "    <tr>\n",
       "      <th>4</th>\n",
       "      <td>151</td>\n",
       "      <td>March - M031990</td>\n",
       "      <td>Andhra Pradesh</td>\n",
       "      <td>Hyderabad</td>\n",
       "      <td>Central Agency</td>\n",
       "      <td>Industrial Area</td>\n",
       "      <td>4.7</td>\n",
       "      <td>7.5</td>\n",
       "      <td>0.0</td>\n",
       "      <td>0.0</td>\n",
       "      <td>0.0</td>\n",
       "      <td>1990-03-01</td>\n",
       "      <td>1990-03-01</td>\n",
       "    </tr>\n",
       "  </tbody>\n",
       "</table>\n",
       "</div>"
      ],
      "text/plain": [
       "  stn_code       sampling_date           state   location          agency  \\\n",
       "0      150  February - M021990  Andhra Pradesh  Hyderabad  Central Agency   \n",
       "1      151  February - M021990  Andhra Pradesh  Hyderabad  Central Agency   \n",
       "2      152  February - M021990  Andhra Pradesh  Hyderabad  Central Agency   \n",
       "3      150     March - M031990  Andhra Pradesh  Hyderabad  Central Agency   \n",
       "4      151     March - M031990  Andhra Pradesh  Hyderabad  Central Agency   \n",
       "\n",
       "                                 type  so2   no2  rspm  spm  pm2_5       date  \\\n",
       "0  Residential, Rural and other Areas  4.8  17.4   0.0  0.0    0.0 1990-02-01   \n",
       "1                     Industrial Area  3.1   7.0   0.0  0.0    0.0 1990-02-01   \n",
       "2  Residential, Rural and other Areas  6.2  28.5   0.0  0.0    0.0 1990-02-01   \n",
       "3  Residential, Rural and other Areas  6.3  14.7   0.0  0.0    0.0 1990-03-01   \n",
       "4                     Industrial Area  4.7   7.5   0.0  0.0    0.0 1990-03-01   \n",
       "\n",
       "  parsed_date  \n",
       "0  1990-02-01  \n",
       "1  1990-02-01  \n",
       "2  1990-02-01  \n",
       "3  1990-03-01  \n",
       "4  1990-03-01  "
      ]
     },
     "execution_count": 31,
     "metadata": {},
     "output_type": "execute_result"
    }
   ],
   "source": [
    "from mlxtend.preprocessing import minmax_scaling      #for scaling\n",
    "from scipy import stats                               #for normalisation\n",
    "df.head()"
   ]
  },
  {
   "cell_type": "code",
   "execution_count": 40,
   "id": "fb7bb4ea",
   "metadata": {},
   "outputs": [
    {
     "data": {
      "text/html": [
       "<div>\n",
       "<style scoped>\n",
       "    .dataframe tbody tr th:only-of-type {\n",
       "        vertical-align: middle;\n",
       "    }\n",
       "\n",
       "    .dataframe tbody tr th {\n",
       "        vertical-align: top;\n",
       "    }\n",
       "\n",
       "    .dataframe thead th {\n",
       "        text-align: right;\n",
       "    }\n",
       "</style>\n",
       "<table border=\"1\" class=\"dataframe\">\n",
       "  <thead>\n",
       "    <tr style=\"text-align: right;\">\n",
       "      <th></th>\n",
       "      <th>so2</th>\n",
       "      <th>no2</th>\n",
       "      <th>rspm</th>\n",
       "      <th>spm</th>\n",
       "      <th>pm2_5</th>\n",
       "    </tr>\n",
       "  </thead>\n",
       "  <tbody>\n",
       "    <tr>\n",
       "      <th>0</th>\n",
       "      <td>0.005281</td>\n",
       "      <td>0.019863</td>\n",
       "      <td>0.000000</td>\n",
       "      <td>0.0</td>\n",
       "      <td>0.0</td>\n",
       "    </tr>\n",
       "    <tr>\n",
       "      <th>1</th>\n",
       "      <td>0.003410</td>\n",
       "      <td>0.007991</td>\n",
       "      <td>0.000000</td>\n",
       "      <td>0.0</td>\n",
       "      <td>0.0</td>\n",
       "    </tr>\n",
       "    <tr>\n",
       "      <th>2</th>\n",
       "      <td>0.006821</td>\n",
       "      <td>0.032534</td>\n",
       "      <td>0.000000</td>\n",
       "      <td>0.0</td>\n",
       "      <td>0.0</td>\n",
       "    </tr>\n",
       "    <tr>\n",
       "      <th>3</th>\n",
       "      <td>0.006931</td>\n",
       "      <td>0.016781</td>\n",
       "      <td>0.000000</td>\n",
       "      <td>0.0</td>\n",
       "      <td>0.0</td>\n",
       "    </tr>\n",
       "    <tr>\n",
       "      <th>4</th>\n",
       "      <td>0.005171</td>\n",
       "      <td>0.008562</td>\n",
       "      <td>0.000000</td>\n",
       "      <td>0.0</td>\n",
       "      <td>0.0</td>\n",
       "    </tr>\n",
       "    <tr>\n",
       "      <th>...</th>\n",
       "      <td>...</td>\n",
       "      <td>...</td>\n",
       "      <td>...</td>\n",
       "      <td>...</td>\n",
       "      <td>...</td>\n",
       "    </tr>\n",
       "    <tr>\n",
       "      <th>435737</th>\n",
       "      <td>0.024202</td>\n",
       "      <td>0.057078</td>\n",
       "      <td>0.022673</td>\n",
       "      <td>0.0</td>\n",
       "      <td>0.0</td>\n",
       "    </tr>\n",
       "    <tr>\n",
       "      <th>435738</th>\n",
       "      <td>0.022002</td>\n",
       "      <td>0.052511</td>\n",
       "      <td>0.027113</td>\n",
       "      <td>0.0</td>\n",
       "      <td>0.0</td>\n",
       "    </tr>\n",
       "    <tr>\n",
       "      <th>435739</th>\n",
       "      <td>0.000000</td>\n",
       "      <td>0.000000</td>\n",
       "      <td>0.000000</td>\n",
       "      <td>0.0</td>\n",
       "      <td>0.0</td>\n",
       "    </tr>\n",
       "    <tr>\n",
       "      <th>435740</th>\n",
       "      <td>0.000000</td>\n",
       "      <td>0.000000</td>\n",
       "      <td>0.000000</td>\n",
       "      <td>0.0</td>\n",
       "      <td>0.0</td>\n",
       "    </tr>\n",
       "    <tr>\n",
       "      <th>435741</th>\n",
       "      <td>0.000000</td>\n",
       "      <td>0.000000</td>\n",
       "      <td>0.000000</td>\n",
       "      <td>0.0</td>\n",
       "      <td>0.0</td>\n",
       "    </tr>\n",
       "  </tbody>\n",
       "</table>\n",
       "<p>435742 rows × 5 columns</p>\n",
       "</div>"
      ],
      "text/plain": [
       "             so2       no2      rspm  spm  pm2_5\n",
       "0       0.005281  0.019863  0.000000  0.0    0.0\n",
       "1       0.003410  0.007991  0.000000  0.0    0.0\n",
       "2       0.006821  0.032534  0.000000  0.0    0.0\n",
       "3       0.006931  0.016781  0.000000  0.0    0.0\n",
       "4       0.005171  0.008562  0.000000  0.0    0.0\n",
       "...          ...       ...       ...  ...    ...\n",
       "435737  0.024202  0.057078  0.022673  0.0    0.0\n",
       "435738  0.022002  0.052511  0.027113  0.0    0.0\n",
       "435739  0.000000  0.000000  0.000000  0.0    0.0\n",
       "435740  0.000000  0.000000  0.000000  0.0    0.0\n",
       "435741  0.000000  0.000000  0.000000  0.0    0.0\n",
       "\n",
       "[435742 rows x 5 columns]"
      ]
     },
     "execution_count": 40,
     "metadata": {},
     "output_type": "execute_result"
    }
   ],
   "source": [
    "#scaling the values\n",
    "scaled = minmax_scaling(df.iloc[:,6:11],columns=['so2','no2','rspm','spm','pm2_5'])\n",
    "scaled"
   ]
  },
  {
   "cell_type": "markdown",
   "id": "ba4e8e41",
   "metadata": {},
   "source": [
    "Thus the range of values is converted between 0-1."
   ]
  },
  {
   "cell_type": "code",
   "execution_count": 41,
   "id": "991bf2f2",
   "metadata": {},
   "outputs": [
    {
     "name": "stdout",
     "output_type": "stream",
     "text": [
      "DATA CLEANED\n"
     ]
    }
   ],
   "source": [
    "print(\"DATA CLEANED\")"
   ]
  },
  {
   "cell_type": "markdown",
   "id": "609613b3",
   "metadata": {},
   "source": [
    "# END"
   ]
  }
 ],
 "metadata": {
  "kernelspec": {
   "display_name": "Python 3",
   "language": "python",
   "name": "python3"
  },
  "language_info": {
   "codemirror_mode": {
    "name": "ipython",
    "version": 3
   },
   "file_extension": ".py",
   "mimetype": "text/x-python",
   "name": "python",
   "nbconvert_exporter": "python",
   "pygments_lexer": "ipython3",
   "version": "3.8.8"
  }
 },
 "nbformat": 4,
 "nbformat_minor": 5
}
